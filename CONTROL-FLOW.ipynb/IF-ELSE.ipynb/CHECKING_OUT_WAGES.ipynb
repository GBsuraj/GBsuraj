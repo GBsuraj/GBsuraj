{
  "nbformat": 4,
  "nbformat_minor": 0,
  "metadata": {
    "colab": {
      "name": "CHECKING-OUT-WAGES.ipynb",
      "provenance": []
    },
    "kernelspec": {
      "name": "python3",
      "display_name": "Python 3"
    },
    "language_info": {
      "name": "python"
    }
  },
  "cells": [
    {
      "cell_type": "code",
      "source": [
        "a=int(input('Enter your age : '))\n",
        "b=input('Enter your gender(M/F) : ')\n",
        "if a>=18 and a<30:\n",
        "  if b=='M':\n",
        "    print('Your wage is 700/day.')\n",
        "  elif b=='F':\n",
        "    print('Your wage is 750/day.')\n",
        "  else :\n",
        "    print('Invalid information.')\n",
        "elif a>=30 and a<=40:\n",
        "  if b=='M':\n",
        "    print('Your wage is  800/day.')\n",
        "  elif b=='F':\n",
        "    print('Your wage is  850/day.')\n",
        "  else :\n",
        "    print('Invalid information.')\n",
        "else:\n",
        "  print('Invalid information.')"
      ],
      "metadata": {
        "colab": {
          "base_uri": "https://localhost:8080/"
        },
        "id": "wbB89DrER-YX",
        "outputId": "f6989af4-e074-4ca8-fa32-ba070c88672c"
      },
      "execution_count": 4,
      "outputs": [
        {
          "output_type": "stream",
          "name": "stdout",
          "text": [
            "Enter your age : 19\n",
            "Enter your gender(M/F) : M\n",
            "Your wage is 700/day.\n"
          ]
        }
      ]
    }
  ]
}
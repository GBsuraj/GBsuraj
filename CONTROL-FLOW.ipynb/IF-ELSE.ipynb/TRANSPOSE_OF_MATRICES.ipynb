{
  "nbformat": 4,
  "nbformat_minor": 0,
  "metadata": {
    "colab": {
      "name": "TRANSPOSE-OF-MATRICES.ipynb",
      "provenance": []
    },
    "kernelspec": {
      "name": "python3",
      "display_name": "Python 3"
    },
    "language_info": {
      "name": "python"
    }
  },
  "cells": [
    {
      "cell_type": "code",
      "source": [
        "#transpose of matrix\n",
        "x=[[11,22,33],\n",
        "   [44,55,66],\n",
        "   [77,88,99]]\n",
        "result=[[0,0,0],\n",
        "        [0,0,0],\n",
        "        [0,0,0]]\n",
        "for i in range(len(x)):\n",
        "  for j in range(len(x)):\n",
        "    result[i][j]=x[j][i]\n",
        "for r in result:\n",
        "  print(r)"
      ],
      "metadata": {
        "colab": {
          "base_uri": "https://localhost:8080/"
        },
        "id": "KDChC7iyqPJd",
        "outputId": "989b5a95-d5c9-4176-e59d-81bfea88c600"
      },
      "execution_count": 4,
      "outputs": [
        {
          "output_type": "stream",
          "name": "stdout",
          "text": [
            "[11, 44, 77]\n",
            "[22, 55, 88]\n",
            "[33, 66, 99]\n"
          ]
        }
      ]
    }
  ]
}
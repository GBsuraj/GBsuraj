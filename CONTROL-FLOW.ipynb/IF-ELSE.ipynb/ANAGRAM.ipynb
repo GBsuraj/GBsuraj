{
  "nbformat": 4,
  "nbformat_minor": 0,
  "metadata": {
    "colab": {
      "name": "Untitled24.ipynb",
      "provenance": []
    },
    "kernelspec": {
      "name": "python3",
      "display_name": "Python 3"
    },
    "language_info": {
      "name": "python"
    }
  },
  "cells": [
    {
      "cell_type": "code",
      "execution_count": 1,
      "metadata": {
        "colab": {
          "base_uri": "https://localhost:8080/"
        },
        "id": "bF2eja1mNDtV",
        "outputId": "090b91fd-d5db-47ea-a2f2-7fd4b7064971"
      },
      "outputs": [
        {
          "output_type": "stream",
          "name": "stdout",
          "text": [
            "enter first word : one\n",
            "enter second word : eno\n",
            "words are anagram.\n"
          ]
        }
      ],
      "source": [
        "#anagram\n",
        "a=input('enter first word : ')\n",
        "b=input('enter second word : ')\n",
        "if len(a)==len(b):\n",
        "  a=a.lower()\n",
        "  b=b.lower()\n",
        "  sort1=sorted(a)\n",
        "  sort2=sorted(b)\n",
        "  if sort1==sort2:\n",
        "    print('words are anagram.')\n",
        "  else :\n",
        "    print('not anagram.')\n",
        "else:\n",
        "  print('not anagram.')"
      ]
    }
  ]
}
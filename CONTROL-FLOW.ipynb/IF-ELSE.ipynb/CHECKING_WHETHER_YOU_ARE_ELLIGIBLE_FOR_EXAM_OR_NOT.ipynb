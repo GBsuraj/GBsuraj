{
  "nbformat": 4,
  "nbformat_minor": 0,
  "metadata": {
    "colab": {
      "name": "CHECKING-WHETHER-YOU-ARE-ELLIGIBLE-FOR-EXAM-OR-NOT.ipynb",
      "provenance": []
    },
    "kernelspec": {
      "name": "python3",
      "display_name": "Python 3"
    },
    "language_info": {
      "name": "python"
    }
  },
  "cells": [
    {
      "cell_type": "code",
      "source": [
        "a=int(input('Total number of attendance : '))\n",
        "b=int(input('Enter your attendance : '))\n",
        "c=(b*100)%250\n",
        "if b>= 75:\n",
        "  print('You are able to attend test.  ')\n",
        "else :\n",
        "  print('You are not eligible to attend test.')"
      ],
      "metadata": {
        "colab": {
          "base_uri": "https://localhost:8080/"
        },
        "id": "8V80_eofTsig",
        "outputId": "6b50b51b-8269-4daa-8faa-04ef800aa5f1"
      },
      "execution_count": 7,
      "outputs": [
        {
          "output_type": "stream",
          "name": "stdout",
          "text": [
            "Total number of attendance : 250\n",
            "Enter your attendance : 180\n",
            "You are able to attend test.  \n"
          ]
        }
      ]
    }
  ]
}
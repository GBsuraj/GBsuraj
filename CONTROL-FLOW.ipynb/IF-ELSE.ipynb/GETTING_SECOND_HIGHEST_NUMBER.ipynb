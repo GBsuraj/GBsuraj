{
  "nbformat": 4,
  "nbformat_minor": 0,
  "metadata": {
    "colab": {
      "name": "GETTING-SECOND-HIGHEST-NUMBER.ipynb",
      "provenance": []
    },
    "kernelspec": {
      "name": "python3",
      "display_name": "Python 3"
    },
    "language_info": {
      "name": "python"
    }
  },
  "cells": [
    {
      "cell_type": "code",
      "source": [
        "#code to get second highest number\n",
        "a=int(input('Enter 1st number : '))\n",
        "b=int(input('Enter 2nd number : '))\n",
        "c=int(input('Enter 3rd number : '))\n",
        "if b>a and b<c or b<a and b>c:\n",
        "  print('Second highest number is :',b)\n",
        "elif a>b and a<c or a<b and a>c:\n",
        "  print('Second highest number is :',a)\n",
        "else :\n",
        "  print('Second highest number is :',c)3"
      ],
      "metadata": {
        "colab": {
          "base_uri": "https://localhost:8080/"
        },
        "id": "gNn_jFLhRYz5",
        "outputId": "0d5ebbf4-d7c1-4f7d-9e72-b3422581c63c"
      },
      "execution_count": 3,
      "outputs": [
        {
          "output_type": "stream",
          "name": "stdout",
          "text": [
            "Enter 1st number : 10\n",
            "Enter 2nd number : 20\n",
            "Enter 3rd number : 30\n",
            "Second highest number is : 20\n"
          ]
        }
      ]
    }
  ]
}
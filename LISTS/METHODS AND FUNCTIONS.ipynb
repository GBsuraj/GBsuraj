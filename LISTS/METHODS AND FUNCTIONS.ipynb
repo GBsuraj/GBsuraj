{
  "nbformat": 4,
  "nbformat_minor": 0,
  "metadata": {
    "colab": {
      "name": "1-LIST.ipynb",
      "provenance": []
    },
    "kernelspec": {
      "name": "python3",
      "display_name": "Python 3"
    },
    "language_info": {
      "name": "python"
    }
  },
  "cells": [
    {
      "cell_type": "markdown",
      "source": [
        "##PYTHON LIST\n",
        "PROPERTIES OF LISTS : \n",
        "\n",
        "1.Mutable\n",
        "\n",
        "2.Ordered\n",
        "\n",
        "3.Heterogenous\n",
        "\n",
        "4.Duplicates"
      ],
      "metadata": {
        "id": "wij8HIXiitiz"
      }
    },
    {
      "cell_type": "code",
      "source": [
        "#Creating list of name,age,standard,field,roll no,location.\n",
        "#using [ ], list constructor\n",
        "sbg=['suraj',19.7,'SY','IT',98,'Thane']\n",
        "print(sbg)\n",
        "#vs\n",
        "gbs=list(('suraj',19.7,'SY','IT',98,'Thane'))\n",
        "print(gbs)"
      ],
      "metadata": {
        "colab": {
          "base_uri": "https://localhost:8080/"
        },
        "id": "756nsyFpi8L8",
        "outputId": "36d628ca-e6e2-4a84-d4fd-c6756055895c"
      },
      "execution_count": null,
      "outputs": [
        {
          "output_type": "stream",
          "name": "stdout",
          "text": [
            "['suraj', 19.7, 'SY', 'IT', 98, 'Thane']\n",
            "['suraj', 19.7, 'SY', 'IT', 98, 'Thane']\n"
          ]
        }
      ]
    },
    {
      "cell_type": "code",
      "source": [
        "#printing only field\n",
        "#using index\n",
        "sbg[3]"
      ],
      "metadata": {
        "colab": {
          "base_uri": "https://localhost:8080/",
          "height": 35
        },
        "id": "icRHpARrmLbV",
        "outputId": "db95fcf4-d890-4d6a-a5a2-73a51b6aad16"
      },
      "execution_count": null,
      "outputs": [
        {
          "output_type": "execute_result",
          "data": {
            "application/vnd.google.colaboratory.intrinsic+json": {
              "type": "string"
            },
            "text/plain": [
              "'IT'"
            ]
          },
          "metadata": {},
          "execution_count": 4
        }
      ]
    },
    {
      "cell_type": "code",
      "source": [
        "#printing position of location\n",
        "#indexing\n",
        "sbg.index('Thane')"
      ],
      "metadata": {
        "colab": {
          "base_uri": "https://localhost:8080/"
        },
        "id": "E1WHJI7NnXz2",
        "outputId": "635c33c2-6085-4506-91fd-55215e9c21bb"
      },
      "execution_count": null,
      "outputs": [
        {
          "output_type": "execute_result",
          "data": {
            "text/plain": [
              "5"
            ]
          },
          "metadata": {},
          "execution_count": 9
        }
      ]
    },
    {
      "cell_type": "code",
      "source": [
        "#printing elements between age and roll no\n",
        "#forward indexing\n",
        "sbg[1:5]"
      ],
      "metadata": {
        "colab": {
          "base_uri": "https://localhost:8080/"
        },
        "id": "e66a3VNAmgQG",
        "outputId": "08e7a257-5a5a-4a2a-aa24-fd37c07a3ba0"
      },
      "execution_count": null,
      "outputs": [
        {
          "output_type": "execute_result",
          "data": {
            "text/plain": [
              "[19.7, 'SY', 'IT', 98]"
            ]
          },
          "metadata": {},
          "execution_count": 17
        }
      ]
    },
    {
      "cell_type": "code",
      "source": [
        "#backward indexing\n",
        "sbg[-5:-1]"
      ],
      "metadata": {
        "colab": {
          "base_uri": "https://localhost:8080/"
        },
        "id": "8K2E2xf4ojSW",
        "outputId": "44054431-34e9-4a51-cebb-24e87daf4efd"
      },
      "execution_count": null,
      "outputs": [
        {
          "output_type": "execute_result",
          "data": {
            "text/plain": [
              "[19.7, 'SY', 'IT', 98]"
            ]
          },
          "metadata": {},
          "execution_count": 19
        }
      ]
    },
    {
      "cell_type": "code",
      "source": [
        "#replacing surname over name\n",
        "sbg[0]='Godambe'\n",
        "print(sbg)"
      ],
      "metadata": {
        "colab": {
          "base_uri": "https://localhost:8080/"
        },
        "id": "lrW0pXzvpPYp",
        "outputId": "4694d463-f74c-492c-ae18-ee3c6c3d6267"
      },
      "execution_count": null,
      "outputs": [
        {
          "output_type": "stream",
          "name": "stdout",
          "text": [
            "['Godambe', 19.7, 'SY', 'IT', 98, 'Thane']\n"
          ]
        }
      ]
    },
    {
      "cell_type": "code",
      "source": [
        "#replacing age and field\n",
        "b=['suraj',19.7,'SY','IT',98,'Thane']\n",
        "b[0:3]='Godambe',19,'TY'\n",
        "print(b)"
      ],
      "metadata": {
        "colab": {
          "base_uri": "https://localhost:8080/"
        },
        "id": "F_vQIzOmryCs",
        "outputId": "3d6bc344-3c61-401e-dd28-7e33a7c0a528"
      },
      "execution_count": null,
      "outputs": [
        {
          "output_type": "stream",
          "name": "stdout",
          "text": [
            "['Godambe', 19, 'TY', 'IT', 98, 'Thane']\n"
          ]
        }
      ]
    },
    {
      "cell_type": "code",
      "source": [
        "#replacing surname and age with another name\n",
        "b[0:2]=['shelar']\n",
        "print(b)"
      ],
      "metadata": {
        "colab": {
          "base_uri": "https://localhost:8080/"
        },
        "id": "lh7aGJRlt3Y8",
        "outputId": "f63ef52f-7f9a-4607-d9be-1eb48a4f1e92"
      },
      "execution_count": null,
      "outputs": [
        {
          "output_type": "stream",
          "name": "stdout",
          "text": [
            "['shelar', 'TY', 'IT', 98, 'Thane']\n"
          ]
        }
      ]
    },
    {
      "cell_type": "code",
      "source": [
        "#replacing name with nickname and other name\n",
        "c=['shelar', 'TY', 'IT', 98, 'Thane']\n",
        "c[0:1]='sbg','sarphale'\n",
        "print(c)"
      ],
      "metadata": {
        "colab": {
          "base_uri": "https://localhost:8080/"
        },
        "id": "7t4ZgYKpupp0",
        "outputId": "2804b3a4-a2bb-4d24-8991-5e015a979d08"
      },
      "execution_count": null,
      "outputs": [
        {
          "output_type": "stream",
          "name": "stdout",
          "text": [
            "['sbg', 'sarphale', 'TY', 'IT', 98, 'Thane']\n"
          ]
        }
      ]
    },
    {
      "cell_type": "code",
      "source": [
        "#adding other name after nickname\n",
        "d=['sbg', 'sarphale', 'TY', 'IT', 98, 'Thane']\n",
        "d.insert(0,'sangle')\n",
        "print(d)"
      ],
      "metadata": {
        "colab": {
          "base_uri": "https://localhost:8080/"
        },
        "id": "825tqZ4Zuiv7",
        "outputId": "aa929359-4712-43cd-8d01-e12e6de756f5"
      },
      "execution_count": null,
      "outputs": [
        {
          "output_type": "stream",
          "name": "stdout",
          "text": [
            "['sangle', 'sbg', 'sarphale', 'TY', 'IT', 98, 'Thane']\n"
          ]
        }
      ]
    },
    {
      "cell_type": "code",
      "source": [
        "#adding hobby\n",
        "e=['sangle', 'sbg', 'sarphale', 'TY', 'IT', 98, 'Thane']\n",
        "e.append('reading')\n",
        "print(e)"
      ],
      "metadata": {
        "colab": {
          "base_uri": "https://localhost:8080/"
        },
        "id": "THWptukb1Lc2",
        "outputId": "83ac9fba-4081-4d1a-c021-b3e677748479"
      },
      "execution_count": null,
      "outputs": [
        {
          "output_type": "stream",
          "name": "stdout",
          "text": [
            "['sangle', 'sbg', 'sarphale', 'TY', 'IT', 98, 'Thane', 'reading']\n"
          ]
        }
      ]
    },
    {
      "cell_type": "code",
      "source": [
        "#adding hobbies\n",
        "av=['sangle', 'sbg', 'sarphale', 'TY', 'IT', 98, 'Thane', 'reading']\n",
        "av.extend(['gaming','cricket'])\n",
        "print(av)"
      ],
      "metadata": {
        "colab": {
          "base_uri": "https://localhost:8080/"
        },
        "id": "n4fOqwoo1fDU",
        "outputId": "84c6777d-520c-474e-9276-f2ad38987052"
      },
      "execution_count": null,
      "outputs": [
        {
          "output_type": "stream",
          "name": "stdout",
          "text": [
            "['sangle', 'sbg', 'sarphale', 'TY', 'IT', 98, 'Thane', 'reading', 'gaming', 'cricket']\n"
          ]
        }
      ]
    },
    {
      "cell_type": "code",
      "source": [
        "#removing location\n",
        "del av[6]\n",
        "print(av)"
      ],
      "metadata": {
        "colab": {
          "base_uri": "https://localhost:8080/"
        },
        "id": "G5pujfd52Tza",
        "outputId": "906b3721-2413-4d33-acb5-6015626ff1ed"
      },
      "execution_count": null,
      "outputs": [
        {
          "output_type": "stream",
          "name": "stdout",
          "text": [
            "['sangle', 'sbg', 'sarphale', 'TY', 'IT', 98, 'cricket']\n"
          ]
        }
      ]
    },
    {
      "cell_type": "code",
      "source": [
        "#removing field\n",
        "av.remove('TY') #av.pop(3)\n",
        "print(av)"
      ],
      "metadata": {
        "colab": {
          "base_uri": "https://localhost:8080/"
        },
        "id": "v4oXBAZ73Mnn",
        "outputId": "42717745-81fa-4238-8576-b214acc7a079"
      },
      "execution_count": null,
      "outputs": [
        {
          "output_type": "stream",
          "name": "stdout",
          "text": [
            "['sangle', 'sbg', 'sarphale', 'IT', 'cricket']\n"
          ]
        }
      ]
    },
    {
      "cell_type": "code",
      "source": [
        "#clearing entire list\n",
        "av=['sangle', 'sbg', 'sarphale', 'IT', 'cricket']\n",
        "av.clear()\n",
        "print(av)"
      ],
      "metadata": {
        "colab": {
          "base_uri": "https://localhost:8080/"
        },
        "id": "75c30WpH42ow",
        "outputId": "b5a9ab2a-75e5-4d53-dfa8-af16d7aae2f7"
      },
      "execution_count": null,
      "outputs": [
        {
          "output_type": "stream",
          "name": "stdout",
          "text": [
            "[]\n"
          ]
        }
      ]
    },
    {
      "cell_type": "code",
      "source": [
        "#deleting list\n",
        "del av\n",
        "print(av)"
      ],
      "metadata": {
        "colab": {
          "base_uri": "https://localhost:8080/",
          "height": 182
        },
        "id": "GLKTBZhk4PX4",
        "outputId": "9e3638d5-042f-48a8-bfad-93ea6ca34f5a"
      },
      "execution_count": null,
      "outputs": [
        {
          "output_type": "error",
          "ename": "NameError",
          "evalue": "ignored",
          "traceback": [
            "\u001b[0;31m---------------------------------------------------------------------------\u001b[0m",
            "\u001b[0;31mNameError\u001b[0m                                 Traceback (most recent call last)",
            "\u001b[0;32m<ipython-input-78-a47a161ff60d>\u001b[0m in \u001b[0;36m<module>\u001b[0;34m()\u001b[0m\n\u001b[0;32m----> 1\u001b[0;31m \u001b[0;32mdel\u001b[0m \u001b[0mav\u001b[0m\u001b[0;34m\u001b[0m\u001b[0;34m\u001b[0m\u001b[0m\n\u001b[0m\u001b[1;32m      2\u001b[0m \u001b[0mprint\u001b[0m\u001b[0;34m(\u001b[0m\u001b[0mav\u001b[0m\u001b[0;34m)\u001b[0m\u001b[0;34m\u001b[0m\u001b[0;34m\u001b[0m\u001b[0m\n",
            "\u001b[0;31mNameError\u001b[0m: name 'av' is not defined"
          ]
        }
      ]
    },
    {
      "cell_type": "code",
      "source": [
        "'''creating list of prime numbers upto 20,\n",
        "   finding their length'''\n",
        "sd=[1,3,5,7,11,13,17,19]\n",
        "len(sd)"
      ],
      "metadata": {
        "colab": {
          "base_uri": "https://localhost:8080/"
        },
        "id": "ZRrCcLjZ4t05",
        "outputId": "4b1ae891-c3a0-40f8-d18c-54579166bc4f"
      },
      "execution_count": 1,
      "outputs": [
        {
          "output_type": "execute_result",
          "data": {
            "text/plain": [
              "8"
            ]
          },
          "metadata": {},
          "execution_count": 1
        }
      ]
    },
    {
      "cell_type": "code",
      "source": [
        "#printing largest and smallest number\n",
        "print(min(sd))\n",
        "print(max(sd))"
      ],
      "metadata": {
        "colab": {
          "base_uri": "https://localhost:8080/"
        },
        "id": "LUQH2fqw5TwA",
        "outputId": "68f831c7-90e5-4d47-8934-e539c709addc"
      },
      "execution_count": null,
      "outputs": [
        {
          "output_type": "stream",
          "name": "stdout",
          "text": [
            "1\n",
            "19\n"
          ]
        }
      ]
    },
    {
      "cell_type": "code",
      "source": [
        "#printing sum of all numbers in the list\n",
        "sum(sd)"
      ],
      "metadata": {
        "colab": {
          "base_uri": "https://localhost:8080/"
        },
        "id": "yPS8Ll3z5dQ6",
        "outputId": "4c421632-cf7b-4452-a98f-563676019fac"
      },
      "execution_count": null,
      "outputs": [
        {
          "output_type": "execute_result",
          "data": {
            "text/plain": [
              "76"
            ]
          },
          "metadata": {},
          "execution_count": 83
        }
      ]
    },
    {
      "cell_type": "code",
      "source": [
        "#creating list using numbers and boolean\n",
        "#using functions all,any\n",
        "list1=[0,1,True,False]\n",
        "print(any(list1))\n",
        "print(all(list1))\n"
      ],
      "metadata": {
        "colab": {
          "base_uri": "https://localhost:8080/"
        },
        "id": "fA55MeBP59Gb",
        "outputId": "37b9c9ab-b524-4782-feda-f10a64f364b7"
      },
      "execution_count": null,
      "outputs": [
        {
          "output_type": "stream",
          "name": "stdout",
          "text": [
            "True\n",
            "False\n"
          ]
        }
      ]
    },
    {
      "cell_type": "code",
      "source": [
        "#printing ascending order and reverse of the list\n",
        "a1=[5,2,18,7,12]\n",
        "a1.sort()\n",
        "print(a1)\n",
        "a1.reverse()\n",
        "print(a1)"
      ],
      "metadata": {
        "colab": {
          "base_uri": "https://localhost:8080/"
        },
        "id": "NHTcgmsb56SW",
        "outputId": "0c784ffd-4dd1-48e5-d212-181fb4dc1af2"
      },
      "execution_count": null,
      "outputs": [
        {
          "output_type": "stream",
          "name": "stdout",
          "text": [
            "[2, 5, 7, 12, 18]\n",
            "[18, 12, 7, 5, 2]\n"
          ]
        }
      ]
    },
    {
      "cell_type": "code",
      "source": [
        "#merging two lists\n",
        "#using +,extend\n",
        "a2=[2, 5, 7, 12, 18]\n",
        "a3=[18, 12, 7, 5, 2]\n",
        "#print(a2+a3)\n",
        "a2.extend(a3)\n"
      ],
      "metadata": {
        "colab": {
          "base_uri": "https://localhost:8080/"
        },
        "id": "vw5CYopE7yt5",
        "outputId": "77b1f4b9-8b3d-4ef4-91e2-1cff47f20015"
      },
      "execution_count": null,
      "outputs": [
        {
          "output_type": "stream",
          "name": "stdout",
          "text": [
            "[2, 5, 7, 12, 18, 18, 12, 7, 5, 2]\n"
          ]
        }
      ]
    },
    {
      "cell_type": "code",
      "source": [
        "#deep copying\n",
        "a2=a3\n",
        "a2.append(19)\n",
        "print(a2)\n",
        "print(a3)"
      ],
      "metadata": {
        "colab": {
          "base_uri": "https://localhost:8080/"
        },
        "id": "Q1HR1FnU8Y5W",
        "outputId": "4cd4352a-39bd-4260-e2bf-0abed1450bab"
      },
      "execution_count": null,
      "outputs": [
        {
          "output_type": "stream",
          "name": "stdout",
          "text": [
            "[18, 12, 7, 5, 2, 19]\n",
            "[18, 12, 7, 5, 2, 19]\n"
          ]
        }
      ]
    },
    {
      "cell_type": "code",
      "source": [
        "#copying list\n",
        "b=[2, 5, 7, 12, 18]\n",
        "b1=[18, 12, 7, 5, 2]\n",
        "c=b.copy()\n",
        "c.append(19)\n",
        "print(c)\n",
        "print(b1)"
      ],
      "metadata": {
        "colab": {
          "base_uri": "https://localhost:8080/"
        },
        "id": "IDpsmyi28zeA",
        "outputId": "1a8edfb9-9087-4fc3-9294-0d13a6c03ab9"
      },
      "execution_count": null,
      "outputs": [
        {
          "output_type": "stream",
          "name": "stdout",
          "text": [
            "[2, 5, 7, 12, 18, 19]\n",
            "[18, 12, 7, 5, 2]\n"
          ]
        }
      ]
    },
    {
      "cell_type": "code",
      "source": [
        "#using stack and queue\n",
        "st=[1,2,3,4,5]\n",
        "stack=st.append(6)\n",
        "print(st)\n",
        "stack=st.pop()\n",
        "print(st)\n",
        "queue=st.append(4)\n",
        "print(st)\n",
        "queue=st.pop(0)\n",
        "print(st)"
      ],
      "metadata": {
        "colab": {
          "base_uri": "https://localhost:8080/"
        },
        "id": "jIHwPpUm-AMF",
        "outputId": "7a937296-d51b-4ed1-9268-357ba738ed5e"
      },
      "execution_count": null,
      "outputs": [
        {
          "output_type": "stream",
          "name": "stdout",
          "text": [
            "[1, 2, 3, 4, 5, 6]\n",
            "[1, 2, 3, 4, 5]\n",
            "[1, 2, 3, 4, 5, 4]\n",
            "[2, 3, 4, 5, 4]\n"
          ]
        }
      ]
    },
    {
      "cell_type": "code",
      "source": [
        "#zipping lists containing name,age,roll no\n",
        "name=['suraj','pratham','hrishi']\n",
        "age=[19,20,21]\n",
        "roll_no=[98,36,59]\n",
        "data=zip(name,age,roll_no)\n",
        "data=list(data)\n",
        "print(data)\n"
      ],
      "metadata": {
        "colab": {
          "base_uri": "https://localhost:8080/"
        },
        "id": "ZimVEHgQCjZO",
        "outputId": "c623165e-52d6-47b3-d83a-6cb495ac603f"
      },
      "execution_count": null,
      "outputs": [
        {
          "output_type": "stream",
          "name": "stdout",
          "text": [
            "[('suraj', 19, 98), ('pratham', 20, 36), ('hrishi', 21, 59)]\n"
          ]
        }
      ]
    },
    {
      "cell_type": "code",
      "source": [
        "#unzip the above list\n",
        "name1,age1,roll_no1=zip(*data)\n",
        "print(name1,age1,roll_no1)"
      ],
      "metadata": {
        "colab": {
          "base_uri": "https://localhost:8080/"
        },
        "id": "UL9JWWETDw3L",
        "outputId": "d8567a38-e907-4d15-c302-fc76db1b8aed"
      },
      "execution_count": null,
      "outputs": [
        {
          "output_type": "stream",
          "name": "stdout",
          "text": [
            "('suraj', 'pratham', 'hrishi') (19, 20, 21) (98, 36, 59)\n"
          ]
        }
      ]
    }
  ]
}

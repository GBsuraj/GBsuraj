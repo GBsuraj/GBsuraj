{
  "nbformat": 4,
  "nbformat_minor": 0,
  "metadata": {
    "colab": {
      "name": "LIST_TUPLE_SET.ipynb",
      "provenance": []
    },
    "kernelspec": {
      "name": "python3",
      "display_name": "Python 3"
    },
    "language_info": {
      "name": "python"
    }
  },
  "cells": [
    {
      "cell_type": "code",
      "source": [
        "#reversing the tuple\n",
        "a=(17,18,19)\n",
        "b=list(a)\n",
        "b.sort(reverse=True)\n",
        "print(b)"
      ],
      "metadata": {
        "colab": {
          "base_uri": "https://localhost:8080/"
        },
        "id": "u6tL0SBCLQKL",
        "outputId": "1d9515a8-ad04-4af4-b3e0-318f9782b255"
      },
      "execution_count": null,
      "outputs": [
        {
          "output_type": "stream",
          "name": "stdout",
          "text": [
            "[19, 18, 17]\n"
          ]
        }
      ]
    },
    {
      "cell_type": "code",
      "execution_count": null,
      "metadata": {
        "colab": {
          "base_uri": "https://localhost:8080/"
        },
        "id": "UW95UdBLI2bF",
        "outputId": "99448306-7c74-4042-ab4c-997d5b5547b2"
      },
      "outputs": [
        {
          "output_type": "execute_result",
          "data": {
            "text/plain": [
              "20"
            ]
          },
          "metadata": {},
          "execution_count": 2
        }
      ],
      "source": [
        "#accessing the value 20 from tuple\n",
        "a=('orange',[10,20,30],(5,15,25))\n",
        "a[1][1]"
      ]
    },
    {
      "cell_type": "code",
      "source": [
        "#creating a tuple with single item\n",
        "a=(50,)\n",
        "type(a)\n",
        "print(a)"
      ],
      "metadata": {
        "colab": {
          "base_uri": "https://localhost:8080/"
        },
        "id": "ZYWJ6dAzJ4QX",
        "outputId": "e92a2533-96f5-4c76-b6ec-4a84e04a898d"
      },
      "execution_count": null,
      "outputs": [
        {
          "output_type": "stream",
          "name": "stdout",
          "text": [
            "(50,)\n"
          ]
        }
      ]
    },
    {
      "cell_type": "code",
      "source": [
        "#unpack the tuple into variables\n",
        "a=(10,20,30,40)\n",
        "b=list(a)\n",
        "c=b[0]\n",
        "d=b[1]\n",
        "s=b[2]\n",
        "z=b[3]\n",
        "print(c)\n",
        "print(d)\n",
        "print(s)\n",
        "print(z)\n",
        "\n"
      ],
      "metadata": {
        "colab": {
          "base_uri": "https://localhost:8080/"
        },
        "id": "0yP65xHSKEOw",
        "outputId": "8a1bbc4e-49c7-49fb-eb4b-f7590ef2d9d7"
      },
      "execution_count": null,
      "outputs": [
        {
          "output_type": "stream",
          "name": "stdout",
          "text": [
            "10\n",
            "20\n",
            "30\n",
            "40\n"
          ]
        }
      ]
    },
    {
      "cell_type": "code",
      "source": [
        "#swapping\n",
        "a=(11,22)\n",
        "b=(99,88)\n",
        "a,b=b,a\n",
        "print(a)\n",
        "print(b)\n"
      ],
      "metadata": {
        "colab": {
          "base_uri": "https://localhost:8080/"
        },
        "id": "kw9QkWVLKl74",
        "outputId": "d44e49b5-0f77-44d6-d41b-0af33124cad7"
      },
      "execution_count": null,
      "outputs": [
        {
          "output_type": "stream",
          "name": "stdout",
          "text": [
            "(99, 88)\n",
            "(11, 22)\n"
          ]
        }
      ]
    },
    {
      "cell_type": "code",
      "source": [
        "#modifying tuple\n",
        "a=(11,[22,33],44,55)\n",
        "a[1][0]=222\n",
        "print(a)"
      ],
      "metadata": {
        "colab": {
          "base_uri": "https://localhost:8080/"
        },
        "id": "Pzv1ZFqOL_Bj",
        "outputId": "80b85cae-842b-40ac-f549-06d893a3d70f"
      },
      "execution_count": null,
      "outputs": [
        {
          "output_type": "stream",
          "name": "stdout",
          "text": [
            "(11, [222, 33], 44, 55)\n"
          ]
        }
      ]
    },
    {
      "cell_type": "code",
      "source": [
        "#count the number of occurence of item 50\n",
        "a=(10,20,50,30,40,50)\n",
        "a.count(50)"
      ],
      "metadata": {
        "colab": {
          "base_uri": "https://localhost:8080/"
        },
        "id": "KnSDAM6EN9tb",
        "outputId": "22affca0-2277-4d6c-d978-c986afae5a3e"
      },
      "execution_count": null,
      "outputs": [
        {
          "output_type": "execute_result",
          "data": {
            "text/plain": [
              "2"
            ]
          },
          "metadata": {},
          "execution_count": 17
        }
      ]
    },
    {
      "cell_type": "code",
      "source": [
        "#unzip a tuple into indivisual list\n",
        "a=[(1,2),(3,4),(8,9)]\n",
        "a1,a2=zip(*a)\n",
        "print(a1)\n",
        "print(a2)"
      ],
      "metadata": {
        "colab": {
          "base_uri": "https://localhost:8080/"
        },
        "id": "IjTEDZjaONGY",
        "outputId": "7851b911-bbcf-4219-d24b-77bba14c2476"
      },
      "execution_count": null,
      "outputs": [
        {
          "output_type": "stream",
          "name": "stdout",
          "text": [
            "(1, 3, 8)\n",
            "(2, 4, 9)\n"
          ]
        }
      ]
    },
    {
      "cell_type": "code",
      "source": [
        "#removing an item from a tuple\n",
        "a=(1,2,3,4,5)\n",
        "b=list(a)\n",
        "del b[3]\n",
        "c=tuple(b)\n",
        "print(c)"
      ],
      "metadata": {
        "colab": {
          "base_uri": "https://localhost:8080/"
        },
        "id": "gAA5oafUQGjg",
        "outputId": "3f2d4850-99b6-4973-f6eb-8706213c86ed"
      },
      "execution_count": null,
      "outputs": [
        {
          "output_type": "stream",
          "name": "stdout",
          "text": [
            "(1, 2, 3, 5)\n"
          ]
        }
      ]
    },
    {
      "cell_type": "code",
      "source": [
        "#code to get 4th element and 4th element from last\n",
        "a=['a','b','c','d','ab','bc','cd','ef','fg']\n",
        "b=list(a)\n",
        "b[3]"
      ],
      "metadata": {
        "colab": {
          "base_uri": "https://localhost:8080/",
          "height": 35
        },
        "id": "MCRTG_43RwMr",
        "outputId": "63a064be-9ce4-4a4e-8c91-835bf30f0eb9"
      },
      "execution_count": null,
      "outputs": [
        {
          "output_type": "execute_result",
          "data": {
            "application/vnd.google.colaboratory.intrinsic+json": {
              "type": "string"
            },
            "text/plain": [
              "'d'"
            ]
          },
          "metadata": {},
          "execution_count": 31
        }
      ]
    },
    {
      "cell_type": "code",
      "source": [
        "b[-4]"
      ],
      "metadata": {
        "colab": {
          "base_uri": "https://localhost:8080/",
          "height": 35
        },
        "id": "hAFhJjYyTUs8",
        "outputId": "aaf536fe-45eb-40e7-b104-cdf7a6a7bff8"
      },
      "execution_count": null,
      "outputs": [
        {
          "output_type": "execute_result",
          "data": {
            "application/vnd.google.colaboratory.intrinsic+json": {
              "type": "string"
            },
            "text/plain": [
              "'bc'"
            ]
          },
          "metadata": {},
          "execution_count": 32
        }
      ]
    },
    {
      "cell_type": "code",
      "source": [
        "#converting tuple into string\n",
        "a=('e','x','e','r','c','i','s','e')\n",
        "b=\"\".join(a)\n",
        "print(b)"
      ],
      "metadata": {
        "colab": {
          "base_uri": "https://localhost:8080/"
        },
        "id": "j8pJYjJOTcKU",
        "outputId": "a3640758-16bb-4815-9239-e8abf5f6738d"
      },
      "execution_count": null,
      "outputs": [
        {
          "output_type": "stream",
          "name": "stdout",
          "text": [
            "exercise\n"
          ]
        }
      ]
    },
    {
      "cell_type": "code",
      "source": [
        "#finding max and min value from set\n",
        "a={11,22,33,44,55}\n",
        "print(max(a))\n",
        "print(min(a))"
      ],
      "metadata": {
        "colab": {
          "base_uri": "https://localhost:8080/"
        },
        "id": "vPZVtZkpT7TT",
        "outputId": "1e97d6ee-1932-4347-ea88-adf461a05d5d"
      },
      "execution_count": null,
      "outputs": [
        {
          "output_type": "stream",
          "name": "stdout",
          "text": [
            "55\n",
            "11\n"
          ]
        }
      ]
    },
    {
      "cell_type": "code",
      "source": [
        "#creating union of set\n",
        "a={11,22,33}\n",
        "b={44,55,66}\n",
        "c={11,66,77,88}\n",
        "a.union(b)\n"
      ],
      "metadata": {
        "colab": {
          "base_uri": "https://localhost:8080/"
        },
        "id": "SKODNE4NUKMA",
        "outputId": "a9d932df-c6f4-450f-9580-b8cd1ce35cb9"
      },
      "execution_count": null,
      "outputs": [
        {
          "output_type": "execute_result",
          "data": {
            "text/plain": [
              "{11, 22, 33, 44, 55, 66}"
            ]
          },
          "metadata": {},
          "execution_count": 42
        }
      ]
    },
    {
      "cell_type": "code",
      "source": [
        "#creating intersection of set\n",
        "b.intersection(c)"
      ],
      "metadata": {
        "colab": {
          "base_uri": "https://localhost:8080/"
        },
        "id": "VKhg2fzAVrJd",
        "outputId": "308b144f-796a-43c0-c994-4acdaf141dd3"
      },
      "execution_count": null,
      "outputs": [
        {
          "output_type": "execute_result",
          "data": {
            "text/plain": [
              "{66}"
            ]
          },
          "metadata": {},
          "execution_count": 43
        }
      ]
    },
    {
      "cell_type": "code",
      "source": [
        "#creating difference of set\n",
        "a.difference(c)"
      ],
      "metadata": {
        "colab": {
          "base_uri": "https://localhost:8080/"
        },
        "id": "od3VbnVZVsS0",
        "outputId": "e6957a56-9af7-47c3-fc66-4141e91d369d"
      },
      "execution_count": null,
      "outputs": [
        {
          "output_type": "execute_result",
          "data": {
            "text/plain": [
              "{22, 33}"
            ]
          },
          "metadata": {},
          "execution_count": 46
        }
      ]
    },
    {
      "cell_type": "code",
      "source": [
        "#creating symmetric difference of set\n",
        "a.symmetric_difference(c)"
      ],
      "metadata": {
        "colab": {
          "base_uri": "https://localhost:8080/"
        },
        "id": "LmyCzTdkV9bE",
        "outputId": "7e4d436a-f626-4b3d-cc8b-13aef24d763b"
      },
      "execution_count": null,
      "outputs": [
        {
          "output_type": "execute_result",
          "data": {
            "text/plain": [
              "{22, 33, 66, 77, 88}"
            ]
          },
          "metadata": {},
          "execution_count": 49
        }
      ]
    },
    {
      "cell_type": "code",
      "source": [
        "#checking whether sets are disjoint or not \n",
        "a.isdisjoint(b)"
      ],
      "metadata": {
        "colab": {
          "base_uri": "https://localhost:8080/"
        },
        "id": "vRIMNBPvWSWm",
        "outputId": "7d8b582e-d2be-4cf1-9de5-752c2bb5c413"
      },
      "execution_count": null,
      "outputs": [
        {
          "output_type": "execute_result",
          "data": {
            "text/plain": [
              "True"
            ]
          },
          "metadata": {},
          "execution_count": 51
        }
      ]
    },
    {
      "cell_type": "code",
      "source": [
        "b.isdisjoint(c)"
      ],
      "metadata": {
        "colab": {
          "base_uri": "https://localhost:8080/"
        },
        "id": "Lz6aEKI5WQUV",
        "outputId": "86d4905f-ce85-4088-cfb5-7ee2db20a7b9"
      },
      "execution_count": null,
      "outputs": [
        {
          "output_type": "execute_result",
          "data": {
            "text/plain": [
              "False"
            ]
          },
          "metadata": {},
          "execution_count": 52
        }
      ]
    },
    {
      "cell_type": "code",
      "source": [
        "a.isdisjoint(c)"
      ],
      "metadata": {
        "colab": {
          "base_uri": "https://localhost:8080/"
        },
        "id": "xE9mN_fgWgOh",
        "outputId": "b1af324e-5cbd-4867-f65f-67671d9d8b50"
      },
      "execution_count": null,
      "outputs": [
        {
          "output_type": "execute_result",
          "data": {
            "text/plain": [
              "False"
            ]
          },
          "metadata": {},
          "execution_count": 53
        }
      ]
    },
    {
      "cell_type": "code",
      "source": [
        "#checking whether which is subset or superset of other\n",
        "a={1,2,3,4,5,6,7,8,9,10}\n",
        "b={2,4,6,8,10}\n",
        "a.issubset(b)\n"
      ],
      "metadata": {
        "colab": {
          "base_uri": "https://localhost:8080/"
        },
        "id": "NeOMK8prWm6N",
        "outputId": "472148d6-d2d6-492b-9acc-75a6d9ac7314"
      },
      "execution_count": null,
      "outputs": [
        {
          "output_type": "execute_result",
          "data": {
            "text/plain": [
              "False"
            ]
          },
          "metadata": {},
          "execution_count": 59
        }
      ]
    },
    {
      "cell_type": "code",
      "source": [
        "b.issubset(a)"
      ],
      "metadata": {
        "colab": {
          "base_uri": "https://localhost:8080/"
        },
        "id": "nZgjmH6wW6Ns",
        "outputId": "d11c495c-808d-4d82-deef-b2ebf03aae1a"
      },
      "execution_count": null,
      "outputs": [
        {
          "output_type": "execute_result",
          "data": {
            "text/plain": [
              "True"
            ]
          },
          "metadata": {},
          "execution_count": 56
        }
      ]
    },
    {
      "cell_type": "code",
      "source": [
        "a.issuperset(b)"
      ],
      "metadata": {
        "colab": {
          "base_uri": "https://localhost:8080/"
        },
        "id": "AHwRBoAoXH4t",
        "outputId": "cb8e59e8-5699-457f-c82c-5cde7b51abb8"
      },
      "execution_count": null,
      "outputs": [
        {
          "output_type": "execute_result",
          "data": {
            "text/plain": [
              "True"
            ]
          },
          "metadata": {},
          "execution_count": 57
        }
      ]
    },
    {
      "cell_type": "code",
      "source": [
        "b.issuperset(a)"
      ],
      "metadata": {
        "colab": {
          "base_uri": "https://localhost:8080/"
        },
        "id": "0j4IJZhQXJ_f",
        "outputId": "564228ff-cb17-4a46-edba-3e470b3701fb"
      },
      "execution_count": null,
      "outputs": [
        {
          "output_type": "execute_result",
          "data": {
            "text/plain": [
              "False"
            ]
          },
          "metadata": {},
          "execution_count": 58
        }
      ]
    },
    {
      "cell_type": "code",
      "source": [
        "#adding list of elements to set\n",
        "a={'yellow','orange','black'}\n",
        "a.update(['blue','green','red'])\n",
        "print(a)"
      ],
      "metadata": {
        "colab": {
          "base_uri": "https://localhost:8080/"
        },
        "id": "WNvDwynLXda4",
        "outputId": "d7e0834d-35f0-4881-8521-ce92bd1dfaae"
      },
      "execution_count": null,
      "outputs": [
        {
          "output_type": "stream",
          "name": "stdout",
          "text": [
            "{'black', 'orange', 'red', 'yellow', 'green', 'blue'}\n"
          ]
        }
      ]
    },
    {
      "cell_type": "code",
      "source": [
        "#get only unique item from two set\n",
        "a={1,2,3,4}\n",
        "b={2,7,4,8}\n",
        "a.symmetric_difference(b)"
      ],
      "metadata": {
        "colab": {
          "base_uri": "https://localhost:8080/"
        },
        "id": "8ai0muFgX1SK",
        "outputId": "1f8251e6-5742-4cd6-e9cc-df279fc8b815"
      },
      "execution_count": 1,
      "outputs": [
        {
          "output_type": "execute_result",
          "data": {
            "text/plain": [
              "{1, 3, 7, 8}"
            ]
          },
          "metadata": {},
          "execution_count": 1
        }
      ]
    },
    {
      "cell_type": "code",
      "source": [
        "#write a code to remove any item from set\n",
        "b={1,3,4,6,9}\n",
        "b.pop()\n",
        "print(b)"
      ],
      "metadata": {
        "id": "rq1vEAv0ZXuR",
        "colab": {
          "base_uri": "https://localhost:8080/"
        },
        "outputId": "fa5bb07f-34cd-488e-bb1f-3e51381a5553"
      },
      "execution_count": 6,
      "outputs": [
        {
          "output_type": "stream",
          "name": "stdout",
          "text": [
            "{3, 4, 6, 9}\n"
          ]
        }
      ]
    },
    {
      "cell_type": "code",
      "source": [
        "#write a code to remove selected item from set\n",
        "a={1,2,3,5}\n",
        "a.remove(5)\n",
        "print(a)"
      ],
      "metadata": {
        "colab": {
          "base_uri": "https://localhost:8080/"
        },
        "id": "P86Bq_7fCYOB",
        "outputId": "25f0a6ba-d1f9-4a91-b610-6a838720a9a0"
      },
      "execution_count": 7,
      "outputs": [
        {
          "output_type": "stream",
          "name": "stdout",
          "text": [
            "{1, 2, 3}\n"
          ]
        }
      ]
    }
  ]
}

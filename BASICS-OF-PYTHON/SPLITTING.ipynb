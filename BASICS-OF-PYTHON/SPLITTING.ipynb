{
  "nbformat": 4,
  "nbformat_minor": 0,
  "metadata": {
    "colab": {
      "name": "Untitled9.ipynb",
      "provenance": []
    },
    "kernelspec": {
      "name": "python3",
      "display_name": "Python 3"
    },
    "language_info": {
      "name": "python"
    }
  },
  "cells": [
    {
      "cell_type": "code",
      "execution_count": 3,
      "metadata": {
        "colab": {
          "base_uri": "https://localhost:8080/"
        },
        "id": "LO7Gw0Sc-DEC",
        "outputId": "e4f7e8b2-2170-4083-a2db-108a6ef3f426"
      },
      "outputs": [
        {
          "output_type": "stream",
          "name": "stdout",
          "text": [
            "s.b.godambe\n"
          ]
        }
      ],
      "source": [
        "sbg=\"suraj bhaskar godambe\"\n",
        "sbg=sbg.split()\n",
        "gbs=print(sbg[0][0]+\".\"+sbg[1][0]+\".\"+sbg[2])"
      ]
    },
    {
      "cell_type": "code",
      "source": [
        "a=\"abraham benjamin devilliers\"\n",
        "a=a.split()\n",
        "b=print(a[0][0]+a[1][0]+\".\"+a[2])"
      ],
      "metadata": {
        "colab": {
          "base_uri": "https://localhost:8080/"
        },
        "id": "o3oll4AI_i6b",
        "outputId": "28d81a91-e9df-4042-f54a-1c8b4b4b1431"
      },
      "execution_count": 5,
      "outputs": [
        {
          "output_type": "stream",
          "name": "stdout",
          "text": [
            "ab.devilliers\n"
          ]
        }
      ]
    },
    {
      "cell_type": "code",
      "source": [
        "a='suraj'\n",
        "b='2003'\n",
        "print(a+b)"
      ],
      "metadata": {
        "colab": {
          "base_uri": "https://localhost:8080/"
        },
        "id": "cqSS6TovA7Ea",
        "outputId": "e4384767-96ff-4696-db9a-ccab2fdcd58e"
      },
      "execution_count": 6,
      "outputs": [
        {
          "output_type": "stream",
          "name": "stdout",
          "text": [
            "suraj2003\n"
          ]
        }
      ]
    },
    {
      "cell_type": "code",
      "source": [
        "a=input(\"enter name:\")\n",
        "b=input(\"your birth year :\")\n",
        "print(a+b)"
      ],
      "metadata": {
        "colab": {
          "base_uri": "https://localhost:8080/"
        },
        "id": "sjcd82O7BYQl",
        "outputId": "93e2fd7d-915a-4904-8965-b30cc0b90499"
      },
      "execution_count": 8,
      "outputs": [
        {
          "output_type": "stream",
          "name": "stdout",
          "text": [
            "enter name:suraj\n",
            "your birth year :2003\n",
            "suraj2003\n"
          ]
        }
      ]
    },
    {
      "cell_type": "code",
      "source": [
        ""
      ],
      "metadata": {
        "id": "DA2ECt_vB-ZY"
      },
      "execution_count": null,
      "outputs": []
    }
  ]
}
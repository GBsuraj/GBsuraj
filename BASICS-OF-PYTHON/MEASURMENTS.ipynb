{
  "cells": [
    {
      "metadata": {
        "trusted": true,
        "colab": {
          "base_uri": "https://localhost:8080/"
        },
        "id": "dSu6sgdWLPDg",
        "outputId": "5a765958-02bd-4c08-d94a-269ddf060b62"
      },
      "cell_type": "code",
      "source": [
        "#area of rectangle\n",
        "sbg=float(input(\"enter length:\"))\n",
        "gbs=float(input(\"enter breadth:\"))\n",
        "print(\"area of rectangle is:\",sbg*gbs)"
      ],
      "execution_count": null,
      "outputs": [
        {
          "output_type": "stream",
          "name": "stdout",
          "text": [
            "enter length:9.8\n",
            "enter breadth:5.2\n",
            "area of rectangle is: 50.96000000000001\n"
          ]
        }
      ]
    },
    {
      "metadata": {
        "trusted": true,
        "colab": {
          "base_uri": "https://localhost:8080/"
        },
        "id": "DEr6sPDeLPDj",
        "outputId": "49a29f32-e656-4761-a62a-ae4b5776a567"
      },
      "cell_type": "code",
      "source": [
        "#area of rectangle(int output)\n",
        "sbg=float(input(\"enter length:\"))\n",
        "gbs=float(input(\"enter breadth:\"))\n",
        "a=int(sbg*gbs)\n",
        "print(\"area of rectangle is:\",a)"
      ],
      "execution_count": null,
      "outputs": [
        {
          "output_type": "stream",
          "name": "stdout",
          "text": [
            "enter length:9.8\n",
            "enter breadth:5.2\n",
            "area of rectangle is: 50\n"
          ]
        }
      ]
    },
    {
      "metadata": {
        "trusted": true,
        "id": "43xsrourLPDl",
        "outputId": "fdfe2509-e03f-49be-a420-f01cc9998112"
      },
      "cell_type": "code",
      "source": [
        "#area of square\n",
        "sbg=int(input(\"enter sides:\"))\n",
        "print(\"area of square is:\",sbg**2)"
      ],
      "execution_count": null,
      "outputs": [
        {
          "name": "stdout",
          "output_type": "stream",
          "text": "enter sides:4\narea of square is: 16\n"
        }
      ]
    },
    {
      "metadata": {
        "trusted": true,
        "id": "ccbsOXOhLPDl",
        "outputId": "639604e3-45e2-42d1-c34b-964a581dafe9"
      },
      "cell_type": "code",
      "source": [
        "#perimeter of square\n",
        "sbg=int(input(\"enter sides:\"))\n",
        "print(\"perimeter of square is:\",sbg*4)"
      ],
      "execution_count": null,
      "outputs": [
        {
          "name": "stdout",
          "output_type": "stream",
          "text": "enter sides:4\nperimeter of square is: 16\n"
        }
      ]
    },
    {
      "metadata": {
        "trusted": true,
        "id": "YU59W2K6LPDm",
        "outputId": "9776464e-9ecd-4492-bb4f-a2df8ca9160e"
      },
      "cell_type": "code",
      "source": [
        "#area of circle\n",
        "sbg=int(input(\"enter radius:\"))\n",
        "p=3.14\n",
        "print(\"area of circle is:\",p*sbg**2)"
      ],
      "execution_count": null,
      "outputs": [
        {
          "name": "stdout",
          "output_type": "stream",
          "text": "enter radius:5\narea of circle is: 78.5\n"
        }
      ]
    },
    {
      "metadata": {
        "trusted": true,
        "id": "LcYf0ELlLPDn",
        "outputId": "f756b554-a256-4a76-d232-70514c060fe7"
      },
      "cell_type": "code",
      "source": [
        "#circumference of circle\n",
        "sbg=int(input(\"enter radius:\"))\n",
        "p=3.14\n",
        "print(\"circumference of circle is:\",2*p*sbg)"
      ],
      "execution_count": null,
      "outputs": [
        {
          "name": "stdout",
          "output_type": "stream",
          "text": "enter radius:7\ncircumference of circle is: 43.96\n"
        }
      ]
    },
    {
      "metadata": {
        "trusted": true,
        "id": "Yj_43HuHLPDo",
        "outputId": "08f4ceb7-e76b-410f-affd-e979fed11374"
      },
      "cell_type": "code",
      "source": [
        "#volume of cube\n",
        "sbg=float(input(\"enter edge:\"))\n",
        "print(\"volume of cube is:\",sbg**3)"
      ],
      "execution_count": null,
      "outputs": [
        {
          "name": "stdout",
          "output_type": "stream",
          "text": "enter edge:4.4\nvolume of cube is: 85.18400000000003\n"
        }
      ]
    },
    {
      "metadata": {
        "trusted": true,
        "colab": {
          "base_uri": "https://localhost:8080/"
        },
        "id": "yRRrfwqRLPDo",
        "outputId": "b0ce02fc-b431-4a99-a3c2-188669bcc413"
      },
      "cell_type": "code",
      "source": [
        "#volume of cuboid\n",
        "s=int(input(\"enter length:\"))\n",
        "b=float(input(\"enter width:\"))\n",
        "g=int(input(\"enter height\"))\n",
        "print(\"volume of cuboid is:\",s*b*g)"
      ],
      "execution_count": null,
      "outputs": [
        {
          "output_type": "stream",
          "name": "stdout",
          "text": [
            "enter length:6\n",
            "enter width:4.2\n",
            "enter height2\n",
            "volume of cuboid is: 50.400000000000006\n"
          ]
        }
      ]
    },
    {
      "metadata": {
        "trusted": true,
        "id": "tqC2AsXwLPDp",
        "outputId": "89c36fe3-2a51-4401-b15c-0721db827eff"
      },
      "cell_type": "code",
      "source": [
        "#total surface area of cube\n",
        "sbg=float(input(\"enter edge:\"))\n",
        "print(\"total surface area of cube is:\",6*sbg**2)"
      ],
      "execution_count": null,
      "outputs": [
        {
          "name": "stdout",
          "output_type": "stream",
          "text": "enter edge:4.4\ntotal surface area of cube is: 116.16000000000003\n"
        }
      ]
    },
    {
      "cell_type": "code",
      "source": [
        "#area of cuboid\n",
        "s=int(input(\"enter length:\"))\n",
        "b=int(input(\"enter width:\"))\n",
        "g=int(input(\"enter height:\"))\n",
        "print(\"area of cuboid:\",2*s*b+2*b*g+2*s*g)"
      ],
      "metadata": {
        "colab": {
          "base_uri": "https://localhost:8080/"
        },
        "id": "ASL_Zb3xLm4H",
        "outputId": "c1259e15-9297-4be5-ac63-e20fd9104fd4"
      },
      "execution_count": null,
      "outputs": [
        {
          "output_type": "stream",
          "name": "stdout",
          "text": [
            "enter length:6\n",
            "enter width:4\n",
            "enter height:2\n",
            "area of cuboid: 88\n"
          ]
        }
      ]
    }
  ],
  "metadata": {
    "kernelspec": {
      "name": "python3",
      "display_name": "Python 3",
      "language": "python"
    },
    "language_info": {
      "name": "python",
      "version": "3.6.15",
      "mimetype": "text/x-python",
      "codemirror_mode": {
        "name": "ipython",
        "version": 3
      },
      "pygments_lexer": "ipython3",
      "nbconvert_exporter": "python",
      "file_extension": ".py"
    },
    "colab": {
      "name": "1st (1).ipynb",
      "provenance": [],
      "collapsed_sections": []
    }
  },
  "nbformat": 4,
  "nbformat_minor": 0
}
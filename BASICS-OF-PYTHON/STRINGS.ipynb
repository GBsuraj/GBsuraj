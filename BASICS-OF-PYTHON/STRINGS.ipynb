{
  "nbformat": 4,
  "nbformat_minor": 0,
  "metadata": {
    "colab": {
      "name": "Untitled5.ipynb",
      "provenance": []
    },
    "kernelspec": {
      "name": "python3",
      "display_name": "Python 3"
    },
    "language_info": {
      "name": "python"
    }
  },
  "cells": [
    {
      "cell_type": "code",
      "execution_count": null,
      "metadata": {
        "colab": {
          "base_uri": "https://localhost:8080/"
        },
        "id": "NB8LMVQHOVt1",
        "outputId": "64bd6cfd-adcc-4d15-fa77-b81904224cd8"
      },
      "outputs": [
        {
          "output_type": "stream",
          "name": "stdout",
          "text": [
            "enter first name:suraj\n",
            "enter last name:godambe\n",
            "your name: suraj godambe\n"
          ]
        }
      ],
      "source": [
        "#printing two different strings in same line\n",
        "sbg=input(\"enter first name:\")\n",
        "gbs=input(\"enter last name:\")\n",
        "print(\"your name:\",sbg, end=\" \")\n",
        "print(gbs)"
      ]
    },
    {
      "cell_type": "code",
      "source": [
        "#printing personal info\n",
        "s=input(\"name:\")\n",
        "u=input(\"age:\")\n",
        "r=input(\"roll no:\")\n",
        "a=input(\"std:\")\n",
        "j=input(\"intrested in:\")\n",
        "_=input(\"hobby:\")\n",
        "print(s,end=\" , \")\n",
        "print(u)\n",
        "print(r,end=\" , \")\n",
        "print(a)\n",
        "print(j,end=\" , \")\n",
        "print(_)"
      ],
      "metadata": {
        "colab": {
          "base_uri": "https://localhost:8080/"
        },
        "id": "EY8v2BMzPCmQ",
        "outputId": "75d1ab82-a74e-4099-e7c1-81e5d30cb6a0"
      },
      "execution_count": null,
      "outputs": [
        {
          "output_type": "stream",
          "name": "stdout",
          "text": [
            "name:suraj\n",
            "age:19\n",
            "roll no:98\n",
            "std:sy\n",
            "intrested in:data science\n",
            "hobby:reading\n",
            "suraj , 19\n",
            "98 , sy\n",
            "data science , reading\n"
          ]
        }
      ]
    },
    {
      "cell_type": "code",
      "source": [
        "#checking whether input is equal or not\n",
        "a=int(input(\"enter number:\"))\n",
        "b=int(input(\"enter other number:\"))\n",
        "print(a==b)"
      ],
      "metadata": {
        "colab": {
          "base_uri": "https://localhost:8080/"
        },
        "id": "ZsybbwfDSCD5",
        "outputId": "03c65564-6c4e-404a-b5c4-e2fc59f3a575"
      },
      "execution_count": null,
      "outputs": [
        {
          "output_type": "stream",
          "name": "stdout",
          "text": [
            "enter number:17\n",
            "enter other number:18\n",
            "False\n"
          ]
        }
      ]
    },
    {
      "cell_type": "code",
      "source": [
        "a=int(input(\"enter number(1):\"))\n",
        "b=int(input(\"enter number(2):\"))\n",
        "c=int(input(\"enter number(3):\"))\n",
        "print(a==b)\n",
        "print(b==c)\n",
        "print(c==a)\n",
        "print(a==b==c)"
      ],
      "metadata": {
        "colab": {
          "base_uri": "https://localhost:8080/"
        },
        "id": "HLYbDNt7TSeQ",
        "outputId": "17391476-4a87-40ef-a37d-bf16d258d877"
      },
      "execution_count": null,
      "outputs": [
        {
          "output_type": "stream",
          "name": "stdout",
          "text": [
            "enter number(1):99\n",
            "enter number(2):99\n",
            "enter number(3):100\n",
            "True\n",
            "False\n",
            "False\n",
            "False\n"
          ]
        }
      ]
    },
    {
      "cell_type": "code",
      "source": [
        "#checking that inputs were =,<,> than 5\n",
        "a=(input(\"enter number:\"))\n",
        "b=(input(\"enter other number:\"))\n",
        "print(a+b>'5')\n",
        "print(a+b<'5')\n",
        "print(a+b==5)"
      ],
      "metadata": {
        "colab": {
          "base_uri": "https://localhost:8080/"
        },
        "id": "EAP8I5WGT5MV",
        "outputId": "1b0d6271-a9aa-48a2-d3e3-ec07d97851e2"
      },
      "execution_count": null,
      "outputs": [
        {
          "output_type": "stream",
          "name": "stdout",
          "text": [
            "enter number:3\n",
            "enter other number:3\n",
            "False\n",
            "True\n",
            "False\n"
          ]
        }
      ]
    },
    {
      "cell_type": "code",
      "source": [
        "#checking whether that yours marks are =,>,< than 35\n",
        "sbg=int(input(\"enter your marks:\"))\n",
        "_=35\n",
        "print(\"pass:\",sbg>_)\n",
        "print(\"pass:\",sbg<_)\n",
        "print(\"pass:\",sbg==_)"
      ],
      "metadata": {
        "colab": {
          "base_uri": "https://localhost:8080/"
        },
        "id": "0JyyXEhbVKnD",
        "outputId": "387f2218-e87c-4de7-8fe4-7e2585d8fbe4"
      },
      "execution_count": null,
      "outputs": [
        {
          "output_type": "stream",
          "name": "stdout",
          "text": [
            "enter your marks:84\n",
            "pass: True\n",
            "pass: False\n",
            "pass: False\n"
          ]
        }
      ]
    },
    {
      "cell_type": "code",
      "source": [
        "#program that shows your age after 100 years\n",
        "a=input(\"enter your name:\")\n",
        "b=int(input(\"enter your age:\"))\n",
        "c=((100-b)+2022)\n",
        "print(a+\" \"+\"you will 100 years old on:\",c)"
      ],
      "metadata": {
        "colab": {
          "base_uri": "https://localhost:8080/"
        },
        "id": "eHIL6ACdbM4l",
        "outputId": "0e08b5a2-1b9e-4978-c18f-2b97714097d9"
      },
      "execution_count": null,
      "outputs": [
        {
          "output_type": "stream",
          "name": "stdout",
          "text": [
            "enter your name:suraj\n",
            "enter your age:19\n",
            "suraj you will 100 years old on: 2103\n"
          ]
        }
      ]
    },
    {
      "cell_type": "code",
      "source": [
        "#concantenation of words\n",
        "s=input(\"word(1):\")\n",
        "u=input(\"word(2):\")\n",
        "print(s+u)\n",
        "r=input(\"word(1):\")\n",
        "a=input(\"word(2):\")\n",
        "print(r+a)\n",
        "j=input(\"word(1):\")\n",
        "i=input(\"word(2):\")\n",
        "print(j+i)\n",
        "d=input(\"word(1):\")\n",
        "h=input(\"word(2):\")\n",
        "print(d+h)\n"
      ],
      "metadata": {
        "colab": {
          "base_uri": "https://localhost:8080/"
        },
        "id": "fHZ0UNLjd8iw",
        "outputId": "5aeaf791-fb9c-43c3-866b-6763eb5b50c6"
      },
      "execution_count": null,
      "outputs": [
        {
          "output_type": "stream",
          "name": "stdout",
          "text": [
            "word(1):care\n",
            "word(2):less\n",
            "careless\n",
            "word(1):meaning\n",
            "word(2):ful\n",
            "meaningful\n",
            "word(1):leader\n",
            "word(2):board\n",
            "leaderboard\n",
            "word(1):week\n",
            "word(2):end\n",
            "weekend\n"
          ]
        }
      ]
    },
    {
      "cell_type": "code",
      "source": [
        ""
      ],
      "metadata": {
        "id": "Ho8h0omdp8_x"
      },
      "execution_count": null,
      "outputs": []
    }
  ]
}

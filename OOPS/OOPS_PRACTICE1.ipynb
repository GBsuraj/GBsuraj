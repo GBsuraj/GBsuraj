{
 "cells": [
  {
   "cell_type": "code",
   "execution_count": 13,
   "id": "07329c50",
   "metadata": {},
   "outputs": [
    {
     "name": "stdout",
     "output_type": "stream",
     "text": [
      "The Parrot is green in colour and size is medium\n"
     ]
    }
   ],
   "source": [
    "class bird:\n",
    "    def __init__(self,name,colour):\n",
    "        self.name=name\n",
    "        self.colour=colour\n",
    "    def Bird_size(self,size):\n",
    "        return f\"The {self.name} is {self.colour} in colour and size is {size}\"\n",
    "birds= bird('Parrot','green')\n",
    "print(birds.Bird_size(\"medium\"))\n"
   ]
  }
 ],
 "metadata": {
  "kernelspec": {
   "display_name": "Python 3 (ipykernel)",
   "language": "python",
   "name": "python3"
  },
  "language_info": {
   "codemirror_mode": {
    "name": "ipython",
    "version": 3
   },
   "file_extension": ".py",
   "mimetype": "text/x-python",
   "name": "python",
   "nbconvert_exporter": "python",
   "pygments_lexer": "ipython3",
   "version": "3.9.7"
  }
 },
 "nbformat": 4,
 "nbformat_minor": 5
}

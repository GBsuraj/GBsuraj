{
  "nbformat": 4,
  "nbformat_minor": 0,
  "metadata": {
    "colab": {
      "name": "Untitled18.ipynb",
      "provenance": []
    },
    "kernelspec": {
      "name": "python3",
      "display_name": "Python 3"
    },
    "language_info": {
      "name": "python"
    }
  },
  "cells": [
    {
      "cell_type": "code",
      "execution_count": 3,
      "metadata": {
        "colab": {
          "base_uri": "https://localhost:8080/"
        },
        "id": "lSiG_kUeIqzN",
        "outputId": "40a446b9-deaf-43ba-cd2b-43deec74461a"
      },
      "outputs": [
        {
          "output_type": "stream",
          "name": "stdout",
          "text": [
            "Total number of attendance : 260\n",
            "Enter your attendance : 210\n",
            "You are able to attend test.  \n"
          ]
        }
      ],
      "source": [
        "a=int(input('Total number of attendance : '))\n",
        "b=int(input('Enter your attendance : '))\n",
        "c=(b*100)%250\n",
        "if b>= 75:\n",
        "  print('You are able to attend test.  ')\n",
        "else :\n",
        "  print('You are not eligible to attend test.')"
      ]
    },
    {
      "cell_type": "code",
      "source": [
        "a=input('Enter any letter : ')\n",
        "b=['a','A','e','E','i','I','o','O','u','U']\n",
        "if a in b:\n",
        "  print('It is vowel.')\n",
        "else :\n",
        "  print('Not vowel.')"
      ],
      "metadata": {
        "colab": {
          "base_uri": "https://localhost:8080/"
        },
        "id": "6WIjufOHKzCC",
        "outputId": "241347b6-0241-45e0-965d-58c32e8ba025"
      },
      "execution_count": 5,
      "outputs": [
        {
          "output_type": "stream",
          "name": "stdout",
          "text": [
            "Enter any letter : B\n",
            "Not vowel.\n"
          ]
        }
      ]
    },
    {
      "cell_type": "code",
      "source": [
        "b=int(input('Enter any number from 1 to 7 : '))\n",
        "if b==1:\n",
        "  print('It is sunday.')\n",
        "elif b==2:\n",
        "  print('It is monday.')\n",
        "elif b==3:\n",
        "  print('It is tuesday.')\n",
        "elif b==4:\n",
        "  print('It is wednwsday.')\n",
        "elif b==5:\n",
        "  print('It is thursday.')\n",
        "elif b==6:\n",
        "  print('It is friday.')\n",
        "elif b==7:\n",
        "  print('It is saturday.')\n",
        "else :\n",
        "  print('Your number is out of 1 to 7.')"
      ],
      "metadata": {
        "colab": {
          "base_uri": "https://localhost:8080/"
        },
        "id": "pDS4k-blMFXh",
        "outputId": "afb3a0cb-e94d-4606-9792-e8e3e3d89743"
      },
      "execution_count": 7,
      "outputs": [
        {
          "output_type": "stream",
          "name": "stdout",
          "text": [
            "Enter any number from 1 to 7 : 10\n",
            "Your number is out of 1 to 7.\n"
          ]
        }
      ]
    },
    {
      "cell_type": "code",
      "source": [
        "print('choose city from (Delhi,Agra,Jaipur)')\n",
        "a=input('Enter city : ')\n",
        "if 'Delhi':\n",
        "  print('Red Fort')\n",
        "elif 'Agra':\n",
        "  print('Taj Mahal')\n",
        "elif 'Jaipur':\n",
        "  print('Lal Mahal')\n",
        "else:\n",
        "  print('invalid city')\n"
      ],
      "metadata": {
        "colab": {
          "base_uri": "https://localhost:8080/"
        },
        "id": "jFuGLE75OWZl",
        "outputId": "dcd49c3b-5b4c-462f-e6ec-c1185d5f304f"
      },
      "execution_count": 1,
      "outputs": [
        {
          "output_type": "stream",
          "name": "stdout",
          "text": [
            "choose city from (Delhi,Agra,Jaipur)\n",
            "Enter city : Jaipur\n",
            "Red Fort\n"
          ]
        }
      ]
    },
    {
      "cell_type": "code",
      "source": [
        "a=input('Enter your number : ')\n",
        "if len(a)>3:\n",
        "  print('Your number has more than three digits.')\n",
        "elif len(a)==3:\n",
        "  print('You have three digit number.')\n",
        "else :\n",
        "  print('your number is less than three digits.')"
      ],
      "metadata": {
        "colab": {
          "base_uri": "https://localhost:8080/"
        },
        "id": "9EE0bdawREG4",
        "outputId": "d5e0f38d-0d22-4d41-9191-cdf506146df4"
      },
      "execution_count": 8,
      "outputs": [
        {
          "output_type": "stream",
          "name": "stdout",
          "text": [
            "Enter your number : 17\n",
            "your number is less than three digits.\n"
          ]
        }
      ]
    },
    {
      "cell_type": "code",
      "source": [
        "#folder\n",
        "a=input('enter first word : ')\n",
        "b=input('enter second word : ')\n",
        "if len(a)==len(b):\n",
        "  a=a.lower()\n",
        "  b=b.lower()\n",
        "  sort1=sorted(a)\n",
        "  sort2=sorted(b)\n",
        "  if sort1==sort2:\n",
        "    print('words are anagram.')\n",
        "  else :\n",
        "    print('not anagram.')\n",
        "else:\n",
        "  print('not anagram.')"
      ],
      "metadata": {
        "colab": {
          "base_uri": "https://localhost:8080/"
        },
        "id": "4hBz8mX7S91y",
        "outputId": "192151d3-55d8-4978-eb41-bafe72c30e7e"
      },
      "execution_count": 13,
      "outputs": [
        {
          "output_type": "stream",
          "name": "stdout",
          "text": [
            "enter first word : one\n",
            "enter second word : eno\n",
            "words are anagram.\n"
          ]
        }
      ]
    }
  ]
}
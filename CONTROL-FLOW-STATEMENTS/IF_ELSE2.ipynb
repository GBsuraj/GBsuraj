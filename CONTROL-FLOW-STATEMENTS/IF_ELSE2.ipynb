{
  "nbformat": 4,
  "nbformat_minor": 0,
  "metadata": {
    "colab": {
      "name": "IF-ELSE2.ipynb",
      "provenance": []
    },
    "kernelspec": {
      "name": "python3",
      "display_name": "Python 3"
    },
    "language_info": {
      "name": "python"
    }
  },
  "cells": [
    {
      "cell_type": "code",
      "source": [
        "a=int(input(\"Enter number:\"))\n",
        "if a %2==0 :\n",
        "  print(a,\"even number\")"
      ],
      "metadata": {
        "colab": {
          "base_uri": "https://localhost:8080/"
        },
        "id": "8-vPlpt8x9Uj",
        "outputId": "26893549-de97-48a2-b3ac-f616bbe213b0"
      },
      "execution_count": null,
      "outputs": [
        {
          "output_type": "stream",
          "name": "stdout",
          "text": [
            "Enter number:2\n",
            "2 even number\n"
          ]
        }
      ]
    },
    {
      "cell_type": "code",
      "execution_count": null,
      "metadata": {
        "colab": {
          "base_uri": "https://localhost:8080/"
        },
        "id": "sitG4WRrxwiS",
        "outputId": "707f663d-e016-47a2-94cd-0783a23b88bf"
      },
      "outputs": [
        {
          "output_type": "stream",
          "name": "stdout",
          "text": [
            "Enter number:3\n",
            "3 positive number\n"
          ]
        }
      ],
      "source": [
        "a=int(input(\"Enter number:\"))\n",
        "if a>0 :\n",
        "  print(a,\"positive number\")"
      ]
    },
    {
      "cell_type": "code",
      "source": [
        "a=int(input(\"Enter number:\"))\n",
        "if a>0 :\n",
        "  print(a,\"positive number\")\n",
        "else  : \n",
        "  print(a,\"negative number\")"
      ],
      "metadata": {
        "colab": {
          "base_uri": "https://localhost:8080/"
        },
        "id": "AVGeuSUVzOoj",
        "outputId": "216cc61d-d114-451b-ce8e-0bb0a84616f0"
      },
      "execution_count": null,
      "outputs": [
        {
          "output_type": "stream",
          "name": "stdout",
          "text": [
            "Enter number:2\n",
            "2 positive number\n"
          ]
        }
      ]
    },
    {
      "cell_type": "code",
      "source": [
        "a=int(input(\"Enter number:\"))\n",
        "if a>0 :\n",
        "  print(a,\"positive number\")\n",
        "elif a<0 : \n",
        "  print(a,\"negative number\")\n",
        "else  :\n",
        "  print(a,\"equal to zero\")"
      ],
      "metadata": {
        "colab": {
          "base_uri": "https://localhost:8080/"
        },
        "id": "sbNfulqYzxoe",
        "outputId": "6b43d59e-e469-4652-f415-b3dc0c24de2c"
      },
      "execution_count": null,
      "outputs": [
        {
          "output_type": "stream",
          "name": "stdout",
          "text": [
            "Enter number:0\n",
            "0 equal to zero\n"
          ]
        }
      ]
    },
    {
      "cell_type": "code",
      "source": [
        "a=int(input(\"Enter number:\"))\n",
        "if a %2==0 :\n",
        "  print(a,\"even number\")\n",
        "else :\n",
        "  print(a,\"odd number\")"
      ],
      "metadata": {
        "colab": {
          "base_uri": "https://localhost:8080/"
        },
        "id": "q0CvycBQ0eCN",
        "outputId": "2d5ef489-8ae4-426a-b545-a55282d025bc"
      },
      "execution_count": null,
      "outputs": [
        {
          "output_type": "stream",
          "name": "stdout",
          "text": [
            "Enter number:3\n",
            "3 odd number\n"
          ]
        }
      ]
    },
    {
      "cell_type": "code",
      "source": [
        "a=[\"a\",\"b\"]\n",
        "if len(a)==0:\n",
        "  print(a,\"empty list\")\n",
        "else :\n",
        "  print(a,\"not empty\")"
      ],
      "metadata": {
        "colab": {
          "base_uri": "https://localhost:8080/"
        },
        "id": "J7LMq82a0Tga",
        "outputId": "2fda2c06-2553-433f-c892-6d845b297dc0"
      },
      "execution_count": null,
      "outputs": [
        {
          "output_type": "stream",
          "name": "stdout",
          "text": [
            "['a', 'b'] not empty\n"
          ]
        }
      ]
    },
    {
      "cell_type": "code",
      "source": [
        "if 'n' in 'python' :\n",
        "\n",
        "  print(\"present\")\n",
        "else :\n",
        "  print(\"not present\") "
      ],
      "metadata": {
        "colab": {
          "base_uri": "https://localhost:8080/"
        },
        "id": "j7xe4rMo1lwR",
        "outputId": "6f9d54c5-714a-4634-ab48-bc4355c3dfcc"
      },
      "execution_count": null,
      "outputs": [
        {
          "output_type": "stream",
          "name": "stdout",
          "text": [
            "present\n"
          ]
        }
      ]
    },
    {
      "cell_type": "code",
      "source": [
        "if 'suraj' in ['suraj','pratham','hrishi']:\n",
        " print(\"present\")\n"
      ],
      "metadata": {
        "colab": {
          "base_uri": "https://localhost:8080/"
        },
        "id": "7IdAcyuK2zin",
        "outputId": "9b969714-66ea-4ac6-c96a-0a83fa1b09d7"
      },
      "execution_count": null,
      "outputs": [
        {
          "output_type": "stream",
          "name": "stdout",
          "text": [
            "present\n"
          ]
        }
      ]
    },
    {
      "cell_type": "code",
      "source": [
        "a=float(input(\"1st value : \"))\n",
        "b=float(input(\"2nd value : \"))\n",
        "c=float(input(\"3rd value : \"))\n",
        "if a>b and a>c:\n",
        "  print(a,\"a is biggest value :\")\n",
        "elif b>a and b>c:\n",
        "  print(b,\"b is biggest value :\")\n",
        "else:\n",
        "  print(c,\"c is biggest value :\")"
      ],
      "metadata": {
        "colab": {
          "base_uri": "https://localhost:8080/"
        },
        "id": "GW3tMWSW4fJO",
        "outputId": "d52ae038-f6c1-496c-9e97-c52efada2143"
      },
      "execution_count": null,
      "outputs": [
        {
          "output_type": "stream",
          "name": "stdout",
          "text": [
            "1st value : 12.4\n",
            "2nd value : 22\n",
            "3rd value : .7\n",
            "22.0 b is biggest value :\n"
          ]
        }
      ]
    },
    {
      "cell_type": "code",
      "source": [
        "a=float(input(\"1st value : \"))\n",
        "b=float(input(\"2nd value : \"))\n",
        "c=float(input(\"3rd value : \"))\n",
        "if a>b and a>c:\n",
        "  max = a\n",
        "elif b>a and b>c:\n",
        "  max = b\n",
        "else:\n",
        "  max = c\n",
        "print(\"The maximal value is :\", max)"
      ],
      "metadata": {
        "colab": {
          "base_uri": "https://localhost:8080/"
        },
        "id": "alQjRJx76q5n",
        "outputId": "bcb05b18-fca3-4bbd-c47d-0efd3725ec7e"
      },
      "execution_count": null,
      "outputs": [
        {
          "output_type": "stream",
          "name": "stdout",
          "text": [
            "1st value : 55.9\n",
            "2nd value : 12.2\n",
            "3rd value : 11.8\n",
            "The maximal value is : 55.9\n"
          ]
        }
      ]
    }
  ]
}
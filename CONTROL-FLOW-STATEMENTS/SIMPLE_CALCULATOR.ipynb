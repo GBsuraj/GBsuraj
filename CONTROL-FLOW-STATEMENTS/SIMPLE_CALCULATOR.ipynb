{
  "nbformat": 4,
  "nbformat_minor": 0,
  "metadata": {
    "colab": {
      "name": "SIMPLE-CALCULATOR.ipynb",
      "provenance": []
    },
    "kernelspec": {
      "name": "python3",
      "display_name": "Python 3"
    },
    "language_info": {
      "name": "python"
    }
  },
  "cells": [
    {
      "cell_type": "code",
      "source": [
        "#SIMPLE CALCULATOR USING BASIC OPERATORS:\n",
        "a=float(input('Enter 1st number : '))\n",
        "b=input('Select operation : ')\n",
        "c=float(input('Enter 2nd number : '))\n",
        "if b=='+':\n",
        "  print('Addition of two numbers is : ',a+c)\n",
        "elif b=='-':\n",
        "  print('Substraction of two numbers is : ',a-c)\n",
        "elif b=='*':\n",
        "  print('Multiplication of two numbers is : ',a*c)\n",
        "elif b=='%':\n",
        "  print('Division of two numbers is : ',a%c)\n",
        "else :\n",
        "  print('Invalid operator')"
      ],
      "metadata": {
        "colab": {
          "base_uri": "https://localhost:8080/"
        },
        "id": "XysGCgP3BgSm",
        "outputId": "72641542-c0eb-4b2b-f0e9-79aece24e122"
      },
      "execution_count": 3,
      "outputs": [
        {
          "output_type": "stream",
          "name": "stdout",
          "text": [
            "Enter 1st number : 123.4\n",
            "Select operation : -\n",
            "Enter 2nd number : 98.7\n",
            "Substraction of two numbers is :  24.700000000000003\n"
          ]
        }
      ]
    }
  ]
}
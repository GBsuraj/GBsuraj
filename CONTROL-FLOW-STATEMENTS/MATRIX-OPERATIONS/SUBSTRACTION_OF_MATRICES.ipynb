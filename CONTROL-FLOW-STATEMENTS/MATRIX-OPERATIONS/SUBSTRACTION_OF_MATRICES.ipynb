{
  "nbformat": 4,
  "nbformat_minor": 0,
  "metadata": {
    "colab": {
      "name": "SUBSTRACTION-OF-MATRICES.ipynb",
      "provenance": []
    },
    "kernelspec": {
      "name": "python3",
      "display_name": "Python 3"
    },
    "language_info": {
      "name": "python"
    }
  },
  "cells": [
    {
      "cell_type": "code",
      "source": [
        "#substracting two matrix\n",
        "x=[[1,5,9,13],\n",
        "   [2,6,10,14],\n",
        "   [3,7,11,15],\n",
        "   [4,8,12,16]]\n",
        "y=[[1,2,3,4],\n",
        "   [5,6,7,8],\n",
        "   [9,10,11,12],\n",
        "   [13,14,15,16]]\n",
        "result=[[0,0,0,0],\n",
        "        [0,0,0,0],\n",
        "        [0,0,0,0],\n",
        "        [0,0,0,0]]\n",
        "for i in range (len(x)):\n",
        "  for j in range (len(y)):\n",
        "    result[i][j]=x[i][j]-y[i][j]\n",
        "for r in result:\n",
        "  print(r)"
      ],
      "metadata": {
        "colab": {
          "base_uri": "https://localhost:8080/"
        },
        "id": "xfU_CM3bpIdh",
        "outputId": "4bec468e-06de-42d9-94c3-273e26aacd9e"
      },
      "execution_count": 2,
      "outputs": [
        {
          "output_type": "stream",
          "name": "stdout",
          "text": [
            "[0, 3, 6, 9]\n",
            "[-3, 0, 3, 6]\n",
            "[-6, -3, 0, 3]\n",
            "[-9, -6, -3, 0]\n"
          ]
        }
      ]
    },
    {
      "cell_type": "code",
      "source": [
        "#comprehension\n",
        "x=[[1,5,9,13],\n",
        "   [2,6,10,14],\n",
        "   [3,7,11,15],\n",
        "   [4,8,12,16]]\n",
        "y=[[1,2,3,4],\n",
        "   [5,6,7,8],\n",
        "   [9,10,11,12],\n",
        "   [13,14,15,16]]\n",
        "result=[[0,0,0,0],\n",
        "        [0,0,0,0],\n",
        "        [0,0,0,0],\n",
        "        [0,0,0,0]]\n",
        "result=[[x[i][j]-y[i][j]for j in range(len(y))]for i in range(len(x))]\n",
        "for r in result:\n",
        "  print(r)      "
      ],
      "metadata": {
        "id": "oPCsxwAapO_J"
      },
      "execution_count": null,
      "outputs": []
    }
  ]
}
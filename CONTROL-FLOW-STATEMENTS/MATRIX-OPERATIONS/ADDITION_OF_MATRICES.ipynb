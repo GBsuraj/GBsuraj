{
  "nbformat": 4,
  "nbformat_minor": 0,
  "metadata": {
    "colab": {
      "name": "ADDITION-OF-MATRICES.ipynb",
      "provenance": []
    },
    "kernelspec": {
      "name": "python3",
      "display_name": "Python 3"
    },
    "language_info": {
      "name": "python"
    }
  },
  "cells": [
    {
      "cell_type": "code",
      "execution_count": 1,
      "metadata": {
        "colab": {
          "base_uri": "https://localhost:8080/"
        },
        "id": "AGHB6BmWm3SK",
        "outputId": "8d65a61a-3383-4140-e9ae-8a7522565612"
      },
      "outputs": [
        {
          "output_type": "stream",
          "name": "stdout",
          "text": [
            "[11, 33]\n",
            "[22, 44]\n"
          ]
        }
      ],
      "source": [
        "#adding two matrix\n",
        "x=[[1,3],\n",
        "   [2,4]]\n",
        "y=[[10,30],\n",
        "   [20,40]]\n",
        "result=[[0,0],\n",
        "        [0,0]]\n",
        "for i in range (len(x)):\n",
        "  for j in range (len(y)):\n",
        "    result[i][j]=x[i][j]+y[i][j]\n",
        "for r in result:\n",
        "  print(r)"
      ]
    },
    {
      "cell_type": "code",
      "source": [
        "#comprehension\n",
        "x=[[1,3],\n",
        "   [2,4]]\n",
        "y=[[10,30],\n",
        "   [20,40]]\n",
        "result=[[0,0],\n",
        "        [0,0]]\n",
        "result=[[x[i][j]+y[i][j]for j in range(len(y))]for i in range(len(x))]\n",
        "for r in result:\n",
        "  print(r)"
      ],
      "metadata": {
        "id": "-1AommP5oRJa"
      },
      "execution_count": null,
      "outputs": []
    }
  ]
}

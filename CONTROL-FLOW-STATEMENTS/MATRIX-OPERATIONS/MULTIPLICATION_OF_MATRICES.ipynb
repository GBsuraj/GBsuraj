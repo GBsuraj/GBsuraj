{
  "nbformat": 4,
  "nbformat_minor": 0,
  "metadata": {
    "colab": {
      "name": "MULTIPLICATION-OF-MATRICES.ipynb",
      "provenance": []
    },
    "kernelspec": {
      "name": "python3",
      "display_name": "Python 3"
    },
    "language_info": {
      "name": "python"
    }
  },
  "cells": [
    {
      "cell_type": "code",
      "source": [
        "#multiplication of matrix\n",
        "x=[[11,21,31],\n",
        "   [12,22,32]]\n",
        "y=[[1,4],\n",
        "   [2,5],\n",
        "   [3,6]]\n",
        "result=[[0,0],\n",
        "        [0,0]]\n",
        "for i in range(len(x)):\n",
        "  for j in range(len(y[0])):\n",
        "    for k in range(len(y)):\n",
        "      result[i][j]+=x[i][k]*y[k][j]\n",
        "for r in result:\n",
        "  print(r)"
      ],
      "metadata": {
        "colab": {
          "base_uri": "https://localhost:8080/"
        },
        "id": "pEyY7_uTpxC7",
        "outputId": "2fd30fc6-c535-4f45-c207-aa87be313df6"
      },
      "execution_count": 3,
      "outputs": [
        {
          "output_type": "stream",
          "name": "stdout",
          "text": [
            "[146, 335]\n",
            "[152, 350]\n"
          ]
        }
      ]
    }
  ]
}
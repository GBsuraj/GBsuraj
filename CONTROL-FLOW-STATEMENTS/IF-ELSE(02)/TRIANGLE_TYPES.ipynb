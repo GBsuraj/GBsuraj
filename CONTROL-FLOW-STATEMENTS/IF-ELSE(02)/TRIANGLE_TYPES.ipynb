{
  "nbformat": 4,
  "nbformat_minor": 0,
  "metadata": {
    "colab": {
      "name": "TRIANGLE-TYPES.ipynb",
      "provenance": []
    },
    "kernelspec": {
      "name": "python3",
      "display_name": "Python 3"
    },
    "language_info": {
      "name": "python"
    }
  },
  "cells": [
    {
      "cell_type": "code",
      "source": [
        "#finding type of triangle\n",
        "a=int(input('Enter 1st side : '))\n",
        "b=int(input('Enter 2nd side : '))\n",
        "c=int(input('Enter 3rd side : '))\n",
        "if a==b and a==c and b==c:\n",
        "  print('It is an equilateral triangle.')\n",
        "elif a==b or a==c or b==c:\n",
        "  print('It is an isosceles triangle.')\n",
        "else :\n",
        "  print('It is an scalen triangle.')"
      ],
      "metadata": {
        "colab": {
          "base_uri": "https://localhost:8080/"
        },
        "id": "Jl19jj9-Pabe",
        "outputId": "e489c793-137a-4773-d02c-9d577dc8bd23"
      },
      "execution_count": 2,
      "outputs": [
        {
          "output_type": "stream",
          "name": "stdout",
          "text": [
            "Enter 1st side : 12\n",
            "Enter 2nd side : 12\n",
            "Enter 3rd side : 12\n",
            "It is an equilateral triangle.\n"
          ]
        }
      ]
    }
  ]
}
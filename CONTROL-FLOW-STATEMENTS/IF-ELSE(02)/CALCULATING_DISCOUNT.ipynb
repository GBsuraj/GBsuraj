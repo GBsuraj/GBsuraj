{
  "nbformat": 4,
  "nbformat_minor": 0,
  "metadata": {
    "colab": {
      "name": "CALCULATING-DISCOUNT.ipynb",
      "provenance": []
    },
    "kernelspec": {
      "name": "python3",
      "display_name": "Python 3"
    },
    "language_info": {
      "name": "python"
    }
  },
  "cells": [
    {
      "cell_type": "code",
      "execution_count": 1,
      "metadata": {
        "colab": {
          "base_uri": "https://localhost:8080/"
        },
        "id": "hajF-rCEUReX",
        "outputId": "73f23c44-66b2-4b20-e390-b04791b6ef64"
      },
      "outputs": [
        {
          "output_type": "stream",
          "name": "stdout",
          "text": [
            "Enter your price : 1700\n",
            "You get 10% disconut & Your net price to pay is : 1530.0\n"
          ]
        }
      ],
      "source": [
        "a=int(input('Enter your price : '))\n",
        "if a>10000:\n",
        "  print('You get 20% disconut',end=\" & \")\n",
        "  print('Your net price to pay is :',a-a*20/100)\n",
        "  #print('You price you have pay is',a-a*20/100)\n",
        "elif a>7000 and a<=1000:\n",
        "  print('You get 25% disconut',end=\" & \")\n",
        "  print('Your net price to pay is :',a-a*15/100)\n",
        "  #print('You price you have pay is',a-a*20/100)\n",
        "elif a<7000:\n",
        "  print('You get 10% disconut',end=\" & \")\n",
        "  print('Your net price to pay is :',a-a*10/100)\n",
        "  #print('You price you have pay is',a-a*20/100)\n",
        "else :\n",
        "  print('Invalid information.')"
      ]
    }
  ]
}
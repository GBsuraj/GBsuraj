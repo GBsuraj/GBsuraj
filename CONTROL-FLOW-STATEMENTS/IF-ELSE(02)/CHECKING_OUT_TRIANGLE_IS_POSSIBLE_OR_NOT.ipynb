{
  "nbformat": 4,
  "nbformat_minor": 0,
  "metadata": {
    "colab": {
      "name": "CHECKING-OUT-TRIANGLE-IS-POSSIBLE-OR-NOT.ipynb",
      "provenance": []
    },
    "kernelspec": {
      "name": "python3",
      "display_name": "Python 3"
    },
    "language_info": {
      "name": "python"
    }
  },
  "cells": [
    {
      "cell_type": "code",
      "source": [
        "a=int(input('Enter 1st side : '))\n",
        "b=int(input('Enter 2nd side : '))\n",
        "c=int(input('Enter 3rd side : '))\n",
        "if b+c>=a and c+a>=b and a+b>=c:\n",
        "  print('Triangle is possible.')\n",
        "else:\n",
        "  print('Triangle is not possible.')"
      ],
      "metadata": {
        "colab": {
          "base_uri": "https://localhost:8080/"
        },
        "id": "u56n6k_IS4-0",
        "outputId": "344c98cc-4a72-489d-c654-09583180ea77"
      },
      "execution_count": 6,
      "outputs": [
        {
          "output_type": "stream",
          "name": "stdout",
          "text": [
            "Enter 1st side : 12\n",
            "Enter 2nd side : 9\n",
            "Enter 3rd side : 3\n",
            "Triangle is possible.\n"
          ]
        }
      ]
    }
  ]
}
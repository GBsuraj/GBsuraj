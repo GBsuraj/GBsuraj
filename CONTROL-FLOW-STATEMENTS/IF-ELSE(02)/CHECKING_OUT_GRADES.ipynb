{
  "nbformat": 4,
  "nbformat_minor": 0,
  "metadata": {
    "colab": {
      "name": "CHECKING-OUT-GRADES.ipynb",
      "provenance": []
    },
    "kernelspec": {
      "name": "python3",
      "display_name": "Python 3"
    },
    "language_info": {
      "name": "python"
    }
  },
  "cells": [
    {
      "cell_type": "code",
      "source": [
        "a=int(input(\"Enter your percentage : \"))\n",
        "if a<25 :\n",
        "  print('Your grade is : D')\n",
        "elif a>25 and a<45:\n",
        "  print('Your grade is : C')\n",
        "elif a>45 and a<50:\n",
        "  print('Your grade is : B')\n",
        "elif a>50 and a<60:\n",
        "  print('Your grade is : B+')\n",
        "elif a>60 and a<80:\n",
        "  print('Your grade is : A')\n",
        "elif a>80:\n",
        "  print('Your grade is : A+')\n",
        "else:\n",
        "  print('Wrong information.')"
      ],
      "metadata": {
        "colab": {
          "base_uri": "https://localhost:8080/"
        },
        "id": "K8vYHnqRSX6C",
        "outputId": "14770d9b-cd00-4e61-8df7-27bc0dd5c813"
      },
      "execution_count": 5,
      "outputs": [
        {
          "output_type": "stream",
          "name": "stdout",
          "text": [
            "Enter your percentage : 84\n",
            "Your grade is : A+\n"
          ]
        }
      ]
    }
  ]
}
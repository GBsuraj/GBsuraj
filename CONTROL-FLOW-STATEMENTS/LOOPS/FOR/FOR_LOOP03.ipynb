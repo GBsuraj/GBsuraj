{
  "nbformat": 4,
  "nbformat_minor": 0,
  "metadata": {
    "colab": {
      "name": "FOR-LOOP03.ipynb",
      "provenance": []
    },
    "kernelspec": {
      "name": "python3",
      "display_name": "Python 3"
    },
    "language_info": {
      "name": "python"
    }
  },
  "cells": [
    {
      "cell_type": "code",
      "source": [
        "for i in range(5):\n",
        "  if i%2==0:\n",
        "    pass\n",
        "  else:\n",
        "    print(i)"
      ],
      "metadata": {
        "colab": {
          "base_uri": "https://localhost:8080/"
        },
        "id": "bW7-J_uPYZoy",
        "outputId": "69989514-b2b3-4109-edb2-5a38fad3170a"
      },
      "execution_count": 8,
      "outputs": [
        {
          "output_type": "stream",
          "name": "stdout",
          "text": [
            "1\n",
            "3\n"
          ]
        }
      ]
    },
    {
      "cell_type": "code",
      "source": [
        "a=[13,12,21,16,35,7,4]\n",
        "b=5\n",
        "c=3\n",
        "for i in a:\n",
        "  if (i%4==0):\n",
        "    b=b+i\n",
        "    continue\n",
        "    if (i%7==0):\n",
        "      c=c+i\n",
        "print(b,end=\" \")\n",
        "print(c)"
      ],
      "metadata": {
        "colab": {
          "base_uri": "https://localhost:8080/"
        },
        "id": "Bwsj4VEBY3-Y",
        "outputId": "3d166a7d-23d3-4ee5-a6b5-d211fdae0d01"
      },
      "execution_count": 9,
      "outputs": [
        {
          "output_type": "stream",
          "name": "stdout",
          "text": [
            "37 3\n"
          ]
        }
      ]
    }
  ]
}
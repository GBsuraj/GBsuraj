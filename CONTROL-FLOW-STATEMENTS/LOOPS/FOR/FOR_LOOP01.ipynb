{
  "nbformat": 4,
  "nbformat_minor": 0,
  "metadata": {
    "colab": {
      "name": "FOR-LOOP01.ipynb",
      "provenance": []
    },
    "kernelspec": {
      "name": "python3",
      "display_name": "Python 3"
    },
    "language_info": {
      "name": "python"
    }
  },
  "cells": [
    {
      "cell_type": "code",
      "execution_count": 1,
      "metadata": {
        "colab": {
          "base_uri": "https://localhost:8080/"
        },
        "id": "PtAfwHtNU4Zj",
        "outputId": "6c128c43-ea68-4e90-f279-b34aee0f38f6"
      },
      "outputs": [
        {
          "output_type": "stream",
          "name": "stdout",
          "text": [
            "312\n",
            "325\n"
          ]
        }
      ],
      "source": [
        "#program to display sum of odd and even numbers between 12 and 37 including 12 and 37\n",
        "a=0\n",
        "b=0\n",
        "for i in range(12,38):\n",
        "  if i%2==0:\n",
        "    a+=i\n",
        "  else: b+=i\n",
        "print(a)\n",
        "print(b)"
      ]
    },
    {
      "cell_type": "code",
      "source": [
        "#program to accept value and check it is perfect number or not\n",
        "a=int(input('Enter number :'))\n",
        "b=0\n",
        "for i in range(1,a):\n",
        "  if a%1==0:\n",
        "    b=b+i\n",
        "if a==b:\n",
        "  print('it is PERFECT number.')\n",
        "else:print('not a PERFECT number.')\n"
      ],
      "metadata": {
        "colab": {
          "base_uri": "https://localhost:8080/"
        },
        "id": "4MKHuLoLVzZM",
        "outputId": "92800e70-d9f1-4061-864b-c43a98cb5c11"
      },
      "execution_count": 3,
      "outputs": [
        {
          "output_type": "stream",
          "name": "stdout",
          "text": [
            "Enter number :17\n",
            "not a PERFECT number.\n"
          ]
        }
      ]
    }
  ]
}

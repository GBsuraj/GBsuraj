{
  "nbformat": 4,
  "nbformat_minor": 0,
  "metadata": {
    "colab": {
      "name": "Untitled18.ipynb",
      "provenance": []
    },
    "kernelspec": {
      "name": "python3",
      "display_name": "Python 3"
    },
    "language_info": {
      "name": "python"
    }
  },
  "cells": [
    {
      "cell_type": "code",
      "source": [
        "a=int(input('enter your birthyear : '))\n",
        "if (a%400==0) and (a%100==0):\n",
        "  print('it is leap year')\n",
        "elif (a%4==0) and (a%100!=0):\n",
        "  print('it is leap year')\n",
        "else:\n",
        "  print('not a leap year')"
      ],
      "metadata": {
        "colab": {
          "base_uri": "https://localhost:8080/"
        },
        "id": "oe2r43x0B9Yt",
        "outputId": "783c46d7-a40f-49ee-ee59-10ce31c950ed"
      },
      "execution_count": 12,
      "outputs": [
        {
          "output_type": "stream",
          "name": "stdout",
          "text": [
            "enter your birthyear : 2003\n",
            "not a leap year\n"
          ]
        }
      ]
    },
    {
      "cell_type": "code",
      "source": [
        "a={'name':'suraj','country':'india','place':'thane'}\n",
        "if 'country' in dict(a):\n",
        "  print('it is present')\n",
        "else:\n",
        "  print('it is absent')"
      ],
      "metadata": {
        "colab": {
          "base_uri": "https://localhost:8080/"
        },
        "id": "yqClvezq-6h7",
        "outputId": "7f99060e-7f3e-4f6d-ebad-e0f09c470e97"
      },
      "execution_count": 5,
      "outputs": [
        {
          "output_type": "stream",
          "name": "stdout",
          "text": [
            "it is present\n"
          ]
        }
      ]
    },
    {
      "cell_type": "code",
      "source": [
        "a=int(input('enter your age : '))\n",
        "if a>= 18:\n",
        "  print('you can vote')\n",
        "else:\n",
        "  print('you cant vote')"
      ],
      "metadata": {
        "colab": {
          "base_uri": "https://localhost:8080/"
        },
        "id": "Kc19P1oZAXyn",
        "outputId": "59762666-3b32-46db-8f7c-5ed93d20af0f"
      },
      "execution_count": 6,
      "outputs": [
        {
          "output_type": "stream",
          "name": "stdout",
          "text": [
            "enter your age : 19\n",
            "you can vote\n"
          ]
        }
      ]
    },
    {
      "cell_type": "code",
      "source": [
        "a=int(input('enter the number : '))\n",
        "if a%7==0:\n",
        "  print(\"divisible by 7\")\n",
        "else :\n",
        "  print('not divide by 7')"
      ],
      "metadata": {
        "colab": {
          "base_uri": "https://localhost:8080/"
        },
        "id": "F27P8qt5A9kW",
        "outputId": "745ab310-fa55-438a-9d9b-03ae12377b9b"
      },
      "execution_count": 7,
      "outputs": [
        {
          "output_type": "stream",
          "name": "stdout",
          "text": [
            "enter the number : 49\n",
            "divisible by 7\n"
          ]
        }
      ]
    },
    {
      "cell_type": "code",
      "source": [
        "a=float(input('enter 1st number : '))\n",
        "b=float(input('enter 2nd number : '))\n",
        "if "
      ],
      "metadata": {
        "id": "XysGCgP3BgSm"
      },
      "execution_count": null,
      "outputs": []
    }
  ]
}
